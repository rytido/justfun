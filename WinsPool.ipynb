{
 "cells": [
  {
   "cell_type": "code",
   "execution_count": 278,
   "metadata": {
    "collapsed": true
   },
   "outputs": [],
   "source": [
    "import requests\n",
    "import numpy as np\n",
    "import pandas as pd\n",
    "from collections import Counter"
   ]
  },
  {
   "cell_type": "code",
   "execution_count": 279,
   "metadata": {
    "collapsed": true
   },
   "outputs": [],
   "source": [
    "# got team names from set(df.team1).union(df.team2)\n",
    "# Arizona and Cleveland unassigned\n",
    "team_assignment = {\n",
    " 'Arizona': '',\n",
    " 'Atlanta': 'Matt',\n",
    " 'Baltimore': 'John',\n",
    " 'Buffalo': 'Ryan',\n",
    " 'Carolina': 'Ryan',\n",
    " 'Chicago': 'Aaron',\n",
    " 'Cincinnati': 'Jon',\n",
    " 'Cleveland': '',\n",
    " 'Dallas': 'Brad',\n",
    " 'Denver': 'Micah',\n",
    " 'Detroit': 'Colin',\n",
    " 'Green Bay': 'Jon',\n",
    " 'Houston': 'Colin',\n",
    " 'Indianapolis': 'Colin',\n",
    " 'Jacksonville': 'Brian',\n",
    " 'Kansas City': 'Ryan',\n",
    " 'L.A. Chargers': 'Matt',\n",
    " 'L.A. Rams': 'John',\n",
    " 'Miami': 'Brad',\n",
    " 'Minnesota': 'Josh',\n",
    " 'N.Y. Giants': 'John',\n",
    " 'N.Y. Jets': 'Josh',\n",
    " 'New England': 'Aaron',\n",
    " 'New Orleans': 'Micah',\n",
    " 'Oakland': 'Matt',\n",
    " 'Philadelphia': 'Brad',\n",
    " 'Pittsburgh': 'Brian',\n",
    " 'San Francisco': 'Aaron',\n",
    " 'Seattle': 'Jon',\n",
    " 'Tampa Bay': 'Brian',\n",
    " 'Tennessee': 'Micah',\n",
    " 'Washington': 'Josh'}"
   ]
  },
  {
   "cell_type": "code",
   "execution_count": 280,
   "metadata": {},
   "outputs": [
    {
     "data": {
      "text/plain": [
       "['Aaron',\n",
       " 'Brad',\n",
       " 'Brian',\n",
       " 'Colin',\n",
       " 'John',\n",
       " 'Jon',\n",
       " 'Josh',\n",
       " 'Matt',\n",
       " 'Micah',\n",
       " 'Ryan']"
      ]
     },
     "execution_count": 280,
     "metadata": {},
     "output_type": "execute_result"
    }
   ],
   "source": [
    "persons = sorted(list(set(p for p in team_assignment.values() if p!='')))\n",
    "persons"
   ]
  },
  {
   "cell_type": "code",
   "execution_count": 308,
   "metadata": {
    "collapsed": true
   },
   "outputs": [],
   "source": [
    "def team_split(game):\n",
    "    \"\"\"split team text\"\"\"\n",
    "    return game.split('<td class=\"td text team')[1:]\n",
    "\n",
    "def team_name(team_raw):\n",
    "    \"\"\"extract team name\"\"\"\n",
    "    part = team_raw.split('\">')[1]\n",
    "    return part.split('</td>')[0].strip()\n",
    "\n",
    "def team_probability(team_raw):\n",
    "    \"\"\"extract win probability for team\n",
    "    apparently they put 'loser' and 'winner' in the class name when the game is complete\"\"\"\n",
    "    if 'loser\">' in team_raw:\n",
    "        return 0\n",
    "    elif 'winner\">' in team_raw:\n",
    "        return 1\n",
    "    else: \n",
    "        part = team_raw.split('%</td><td class=\"td number score\">')[0]\n",
    "        return float(part.split('>')[-1])/100"
   ]
  },
  {
   "cell_type": "code",
   "execution_count": 307,
   "metadata": {},
   "outputs": [
    {
     "data": {
      "text/plain": [
       "256"
      ]
     },
     "execution_count": 307,
     "metadata": {},
     "output_type": "execute_result"
    }
   ],
   "source": [
    "# get full html of page\n",
    "r = requests.get(\"https://projects.fivethirtyeight.com/2018-nfl-predictions/games/\")\n",
    "\n",
    "raw = r.text\n",
    "\n",
    "# html for each game table\n",
    "# first element is not relevant\n",
    "games = raw.split('<table class=\"game-body\">')[1:]\n",
    "len(games)"
   ]
  },
  {
   "cell_type": "code",
   "execution_count": 309,
   "metadata": {},
   "outputs": [
    {
     "name": "stdout",
     "output_type": "stream",
     "text": [
      "Green Bay Seattle\n",
      "0.31 0.69\n"
     ]
    }
   ],
   "source": [
    "# function example usage\n",
    "game = games[100]\n",
    "team1, team2 = team_split(game)\n",
    "print(team_name(team1), team_name(team2))\n",
    "print(team_probability(team1), team_probability(team2))"
   ]
  },
  {
   "cell_type": "code",
   "execution_count": 310,
   "metadata": {},
   "outputs": [
    {
     "data": {
      "text/html": [
       "<div>\n",
       "<style>\n",
       "    .dataframe thead tr:only-child th {\n",
       "        text-align: right;\n",
       "    }\n",
       "\n",
       "    .dataframe thead th {\n",
       "        text-align: left;\n",
       "    }\n",
       "\n",
       "    .dataframe tbody tr th {\n",
       "        vertical-align: top;\n",
       "    }\n",
       "</style>\n",
       "<table border=\"1\" class=\"dataframe\">\n",
       "  <thead>\n",
       "    <tr style=\"text-align: right;\">\n",
       "      <th></th>\n",
       "      <th>team1</th>\n",
       "      <th>team2</th>\n",
       "      <th>prob1</th>\n",
       "      <th>prob2</th>\n",
       "      <th>person1</th>\n",
       "      <th>person2</th>\n",
       "    </tr>\n",
       "  </thead>\n",
       "  <tbody>\n",
       "    <tr>\n",
       "      <th>0</th>\n",
       "      <td>Minnesota</td>\n",
       "      <td>L.A. Rams</td>\n",
       "      <td>0.35</td>\n",
       "      <td>0.65</td>\n",
       "      <td>Josh</td>\n",
       "      <td>John</td>\n",
       "    </tr>\n",
       "    <tr>\n",
       "      <th>1</th>\n",
       "      <td>Buffalo</td>\n",
       "      <td>Green Bay</td>\n",
       "      <td>0.47</td>\n",
       "      <td>0.53</td>\n",
       "      <td>Ryan</td>\n",
       "      <td>Jon</td>\n",
       "    </tr>\n",
       "    <tr>\n",
       "      <th>2</th>\n",
       "      <td>Cincinnati</td>\n",
       "      <td>Atlanta</td>\n",
       "      <td>0.32</td>\n",
       "      <td>0.68</td>\n",
       "      <td>Jon</td>\n",
       "      <td>Matt</td>\n",
       "    </tr>\n",
       "    <tr>\n",
       "      <th>3</th>\n",
       "      <td>Detroit</td>\n",
       "      <td>Dallas</td>\n",
       "      <td>0.38</td>\n",
       "      <td>0.62</td>\n",
       "      <td>Colin</td>\n",
       "      <td>Brad</td>\n",
       "    </tr>\n",
       "    <tr>\n",
       "      <th>4</th>\n",
       "      <td>Houston</td>\n",
       "      <td>Indianapolis</td>\n",
       "      <td>0.33</td>\n",
       "      <td>0.67</td>\n",
       "      <td>Colin</td>\n",
       "      <td>Colin</td>\n",
       "    </tr>\n",
       "  </tbody>\n",
       "</table>\n",
       "</div>"
      ],
      "text/plain": [
       "        team1         team2  prob1  prob2 person1 person2\n",
       "0   Minnesota     L.A. Rams   0.35   0.65    Josh    John\n",
       "1     Buffalo     Green Bay   0.47   0.53    Ryan     Jon\n",
       "2  Cincinnati       Atlanta   0.32   0.68     Jon    Matt\n",
       "3     Detroit        Dallas   0.38   0.62   Colin    Brad\n",
       "4     Houston  Indianapolis   0.33   0.67   Colin   Colin"
      ]
     },
     "execution_count": 310,
     "metadata": {},
     "output_type": "execute_result"
    }
   ],
   "source": [
    "# build game probabilities data frame\n",
    "data = []\n",
    "for game in games:\n",
    "    team1, team2 = team_split(game)\n",
    "    team1_name, team2_name = team_name(team1), team_name(team2)\n",
    "    person1, person2 = team_assignment[team1_name], team_assignment[team2_name]\n",
    "    info = [team1_name, team2_name, team_probability(team1), team_probability(team2), person1, person2]\n",
    "    data.append(info)\n",
    "    \n",
    "cols = [\"team1\", \"team2\", \"prob1\", \"prob2\", \"person1\", \"person2\"]\n",
    "df = pd.DataFrame(data, columns=cols)\n",
    "df.to_csv(\"games.txt\", index=False)\n",
    "df[:5]"
   ]
  },
  {
   "cell_type": "code",
   "execution_count": 311,
   "metadata": {},
   "outputs": [
    {
     "data": {
      "text/plain": [
       "'\\ndf.loc[df.team1==\"Detroit\", \"prob1\"] = 1\\ndf.loc[df.team1==\"Detroit\", \"prob2\"] = 0\\ndf.loc[df.team2==\"Detroit\", \"prob1\"] = 0\\ndf.loc[df.team2==\"Detroit\", \"prob2\"] = 1\\ndf[(df.team1==\"Detroit\") | (df.team2==\"Detroit\")]\\n'"
      ]
     },
     "execution_count": 311,
     "metadata": {},
     "output_type": "execute_result"
    }
   ],
   "source": [
    "# test scenarios\n",
    "\"\"\"\n",
    "df.loc[df.team1==\"Detroit\", \"prob1\"] = 1\n",
    "df.loc[df.team1==\"Detroit\", \"prob2\"] = 0\n",
    "df.loc[df.team2==\"Detroit\", \"prob1\"] = 0\n",
    "df.loc[df.team2==\"Detroit\", \"prob2\"] = 1\n",
    "df[(df.team1==\"Detroit\") | (df.team2==\"Detroit\")]\n",
    "\"\"\""
   ]
  },
  {
   "cell_type": "code",
   "execution_count": 312,
   "metadata": {},
   "outputs": [
    {
     "data": {
      "text/html": [
       "<div>\n",
       "<style>\n",
       "    .dataframe thead tr:only-child th {\n",
       "        text-align: right;\n",
       "    }\n",
       "\n",
       "    .dataframe thead th {\n",
       "        text-align: left;\n",
       "    }\n",
       "\n",
       "    .dataframe tbody tr th {\n",
       "        vertical-align: top;\n",
       "    }\n",
       "</style>\n",
       "<table border=\"1\" class=\"dataframe\">\n",
       "  <thead>\n",
       "    <tr style=\"text-align: right;\">\n",
       "      <th></th>\n",
       "      <th>wins</th>\n",
       "      <th>max_possible</th>\n",
       "    </tr>\n",
       "    <tr>\n",
       "      <th>person</th>\n",
       "      <th></th>\n",
       "      <th></th>\n",
       "    </tr>\n",
       "  </thead>\n",
       "  <tbody>\n",
       "    <tr>\n",
       "      <th>John</th>\n",
       "      <td>6</td>\n",
       "      <td>45</td>\n",
       "    </tr>\n",
       "    <tr>\n",
       "      <th>Micah</th>\n",
       "      <td>6</td>\n",
       "      <td>45</td>\n",
       "    </tr>\n",
       "    <tr>\n",
       "      <th>Ryan</th>\n",
       "      <td>6</td>\n",
       "      <td>45</td>\n",
       "    </tr>\n",
       "    <tr>\n",
       "      <th>Brad</th>\n",
       "      <td>6</td>\n",
       "      <td>43</td>\n",
       "    </tr>\n",
       "    <tr>\n",
       "      <th>Brian</th>\n",
       "      <td>5</td>\n",
       "      <td>43</td>\n",
       "    </tr>\n",
       "    <tr>\n",
       "      <th>Jon</th>\n",
       "      <td>4</td>\n",
       "      <td>42</td>\n",
       "    </tr>\n",
       "    <tr>\n",
       "      <th>Josh</th>\n",
       "      <td>4</td>\n",
       "      <td>42</td>\n",
       "    </tr>\n",
       "    <tr>\n",
       "      <th>Aaron</th>\n",
       "      <td>4</td>\n",
       "      <td>41</td>\n",
       "    </tr>\n",
       "    <tr>\n",
       "      <th>Colin</th>\n",
       "      <td>2</td>\n",
       "      <td>39</td>\n",
       "    </tr>\n",
       "    <tr>\n",
       "      <th>Matt</th>\n",
       "      <td>2</td>\n",
       "      <td>39</td>\n",
       "    </tr>\n",
       "  </tbody>\n",
       "</table>\n",
       "</div>"
      ],
      "text/plain": [
       "        wins  max_possible\n",
       "person                    \n",
       "John       6            45\n",
       "Micah      6            45\n",
       "Ryan       6            45\n",
       "Brad       6            43\n",
       "Brian      5            43\n",
       "Jon        4            42\n",
       "Josh       4            42\n",
       "Aaron      4            41\n",
       "Colin      2            39\n",
       "Matt       2            39"
      ]
     },
     "execution_count": 312,
     "metadata": {},
     "output_type": "execute_result"
    }
   ],
   "source": [
    "# current and best possible score by person\n",
    "current = []\n",
    "for p in persons:\n",
    "    certain_win = possible_win = ((df.person1==p) & (df.prob1==1)) | ((df.person2==p) & (df.prob2==1))\n",
    "    possible_win = ((df.person1==p) & (df.prob1>0)) | ((df.person2==p) & (df.prob2>0))\n",
    "    current.append([p, certain_win.sum(), possible_win.sum()])\n",
    "    \n",
    "df_current = pd.DataFrame(current, columns=['person', 'wins', 'max_possible']).set_index(\"person\")\n",
    "df_formatted = df_current.sort_values(['wins','max_possible'], ascending=False)\n",
    "df_formatted.to_csv(\"scores.txt\", sep=\" \", header=False)\n",
    "df_formatted"
   ]
  },
  {
   "cell_type": "code",
   "execution_count": null,
   "metadata": {},
   "outputs": [
    {
     "data": {
      "text/plain": [
       "(20000, 256)"
      ]
     },
     "execution_count": 313,
     "metadata": {},
     "output_type": "execute_result"
    }
   ],
   "source": [
    "# simulate seasons\n",
    "n_sims = 20000\n",
    "sims = []\n",
    "for index, g in df.iterrows():\n",
    "    a = [g['person1'], g['person2']]\n",
    "    p = [g['prob1'], g['prob2']]\n",
    "    if sum(p) != 0:\n",
    "        game_sims = np.random.choice(a, n_sims, p=p)\n",
    "    sims.append(game_sims)\n",
    "\n",
    "sims = np.array(sims).T\n",
    "sims.shape"
   ]
  },
  {
   "cell_type": "code",
   "execution_count": null,
   "metadata": {},
   "outputs": [],
   "source": [
    "# aggregate seasons into scores for each person\n",
    "df_wins = pd.DataFrame([Counter(s) for s in sims])[persons]\n",
    "print(df_wins.shape)\n",
    "df_wins[:5]"
   ]
  },
  {
   "cell_type": "code",
   "execution_count": null,
   "metadata": {},
   "outputs": [],
   "source": [
    "# use min method because ties take from following placements\n",
    "# mistakenly used dense at first\n",
    "df_rank = df_wins.rank(axis=1, method=\"min\", ascending=False).astype(int)\n",
    "df_rank[:5]"
   ]
  },
  {
   "cell_type": "code",
   "execution_count": null,
   "metadata": {},
   "outputs": [],
   "source": [
    "rank1 = (df_rank==1).sum(0) / n_sims\n",
    "rank2 = (df_rank==2).sum(0) / n_sims\n",
    "rank3 = (df_rank==3).sum(0) / n_sims\n",
    "\n",
    "probs = pd.concat([rank1, rank2, rank3], axis=1)\n",
    "probs.columns = [\"1\", \"2\", \"3\"]\n",
    "probs.sort_values(\"1\", ascending=False).style.format(\"{:.1%}\")"
   ]
  },
  {
   "cell_type": "code",
   "execution_count": null,
   "metadata": {
    "collapsed": true
   },
   "outputs": [],
   "source": [
    "formatted = (probs*100).sort_values(\"1\", ascending=False).round(0).astype(int).astype(str)+'%'\n",
    "formatted.to_csv(\"probabilities.txt\", sep=\" \", header=False)"
   ]
  },
  {
   "cell_type": "code",
   "execution_count": null,
   "metadata": {
    "collapsed": true
   },
   "outputs": [],
   "source": [
    "import seaborn as sns\n",
    "%matplotlib inline"
   ]
  },
  {
   "cell_type": "code",
   "execution_count": null,
   "metadata": {
    "collapsed": true
   },
   "outputs": [],
   "source": [
    "person_sort = probs.sort_values(\"1\", ascending=False).index"
   ]
  },
  {
   "cell_type": "code",
   "execution_count": null,
   "metadata": {},
   "outputs": [],
   "source": [
    "# score distribution for individual players\n",
    "dist_df = []\n",
    "for person in persons:\n",
    "    dist_df.append(pd.DataFrame(df_wins.groupby(person).size() / n_sims))\n",
    "\n",
    "dist_df = pd.concat(dist_df, axis=1).fillna(0)\n",
    "dist_df.columns = persons\n",
    "#dist_df.style.format(\"{:.1%}\")\n",
    "sns.heatmap(dist_df[person_sort], annot=False)"
   ]
  },
  {
   "cell_type": "code",
   "execution_count": null,
   "metadata": {
    "collapsed": true
   },
   "outputs": [],
   "source": [
    "# union team data to compute wins\n",
    "a = df[[\"person1\", \"team1\", \"prob1\"]].rename(columns={\"person1\":\"person\", \"team1\":\"team\", \"prob1\":\"prob\"})\n",
    "b = df[[\"person2\", \"team2\", \"prob2\"]].rename(columns={\"person2\":\"person\", \"team2\":\"team\", \"prob2\":\"prob\"})\n",
    "df_union = pd.concat([a, b], axis=0, ignore_index=True)\n",
    "df_union[\"win\"] = (df_union[\"prob\"] == 1).astype(int)\n",
    "totals = df_union.groupby([\"person\", \"team\"]).sum().reset_index()"
   ]
  },
  {
   "cell_type": "code",
   "execution_count": null,
   "metadata": {},
   "outputs": [],
   "source": [
    "# text for Notes app\n",
    "text = ''\n",
    "for person in persons:\n",
    "    team_scores = totals[totals.person==person]\n",
    "    score_text = \"\\n\".join(\" - \" + team_scores.team + \": \" + team_scores.win.astype(str))\n",
    "    person_total = \"TOTAL: \" + str(team_scores.win.sum())\n",
    "    person_max = \"MAX: \" + str(df_current.loc[person].max_possible)\n",
    "    placement_prob = \"1st 2nd 3rd: \" + \" \".join((probs.loc[person]*100).round(0).astype(int).astype(str) + \"%\")\n",
    "    parts = [person, score_text, person_total, person_max, placement_prob, \"\\n\"]\n",
    "    text += \"\\n\".join(parts)\n",
    "    \n",
    "open(\"report.txt\", \"w\").write(text)"
   ]
  },
  {
   "cell_type": "code",
   "execution_count": null,
   "metadata": {
    "collapsed": true
   },
   "outputs": [],
   "source": []
  }
 ],
 "metadata": {
  "kernelspec": {
   "display_name": "Python 3",
   "language": "python",
   "name": "python3"
  },
  "language_info": {
   "codemirror_mode": {
    "name": "ipython",
    "version": 3
   },
   "file_extension": ".py",
   "mimetype": "text/x-python",
   "name": "python",
   "nbconvert_exporter": "python",
   "pygments_lexer": "ipython3",
   "version": "3.6.3"
  }
 },
 "nbformat": 4,
 "nbformat_minor": 2
}
