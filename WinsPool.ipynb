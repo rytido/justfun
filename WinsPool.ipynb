{
 "cells": [
  {
   "cell_type": "code",
   "execution_count": 278,
   "metadata": {
    "collapsed": true
   },
   "outputs": [],
   "source": [
    "import requests\n",
    "import numpy as np\n",
    "import pandas as pd\n",
    "from collections import Counter"
   ]
  },
  {
   "cell_type": "code",
   "execution_count": 279,
   "metadata": {
    "collapsed": true
   },
   "outputs": [],
   "source": [
    "# got team names from set(df.team1).union(df.team2)\n",
    "# Arizona and Cleveland unassigned\n",
    "team_assignment = {\n",
    " 'Arizona': '',\n",
    " 'Atlanta': 'Matt',\n",
    " 'Baltimore': 'John',\n",
    " 'Buffalo': 'Ryan',\n",
    " 'Carolina': 'Ryan',\n",
    " 'Chicago': 'Aaron',\n",
    " 'Cincinnati': 'Jon',\n",
    " 'Cleveland': '',\n",
    " 'Dallas': 'Brad',\n",
    " 'Denver': 'Micah',\n",
    " 'Detroit': 'Colin',\n",
    " 'Green Bay': 'Jon',\n",
    " 'Houston': 'Colin',\n",
    " 'Indianapolis': 'Colin',\n",
    " 'Jacksonville': 'Brian',\n",
    " 'Kansas City': 'Ryan',\n",
    " 'L.A. Chargers': 'Matt',\n",
    " 'L.A. Rams': 'John',\n",
    " 'Miami': 'Brad',\n",
    " 'Minnesota': 'Josh',\n",
    " 'N.Y. Giants': 'John',\n",
    " 'N.Y. Jets': 'Josh',\n",
    " 'New England': 'Aaron',\n",
    " 'New Orleans': 'Micah',\n",
    " 'Oakland': 'Matt',\n",
    " 'Philadelphia': 'Brad',\n",
    " 'Pittsburgh': 'Brian',\n",
    " 'San Francisco': 'Aaron',\n",
    " 'Seattle': 'Jon',\n",
    " 'Tampa Bay': 'Brian',\n",
    " 'Tennessee': 'Micah',\n",
    " 'Washington': 'Josh'}"
   ]
  },
  {
   "cell_type": "code",
   "execution_count": 280,
   "metadata": {},
   "outputs": [
    {
     "data": {
      "text/plain": [
       "['Aaron',\n",
       " 'Brad',\n",
       " 'Brian',\n",
       " 'Colin',\n",
       " 'John',\n",
       " 'Jon',\n",
       " 'Josh',\n",
       " 'Matt',\n",
       " 'Micah',\n",
       " 'Ryan']"
      ]
     },
     "execution_count": 280,
     "metadata": {},
     "output_type": "execute_result"
    }
   ],
   "source": [
    "persons = sorted(list(set(p for p in team_assignment.values() if p!='')))\n",
    "persons"
   ]
  },
  {
   "cell_type": "code",
   "execution_count": 281,
   "metadata": {},
   "outputs": [
    {
     "data": {
      "text/plain": [
       "256"
      ]
     },
     "execution_count": 281,
     "metadata": {},
     "output_type": "execute_result"
    }
   ],
   "source": [
    "# get full html of page\n",
    "r = requests.get(\"https://projects.fivethirtyeight.com/2018-nfl-predictions/games/\")\n",
    "\n",
    "raw = r.text\n",
    "\n",
    "# html for each game table\n",
    "# first element is not relevant\n",
    "games = raw.split('<table class=\"game-body\">')[1:]\n",
    "len(games)"
   ]
  },
  {
   "cell_type": "code",
   "execution_count": 282,
   "metadata": {
    "collapsed": true
   },
   "outputs": [],
   "source": [
    "def team_split(game):\n",
    "    \"\"\"split team text\"\"\"\n",
    "    return game.split('<td class=\"td text team')[1:]\n",
    "\n",
    "def team_name(team_raw):\n",
    "    \"\"\"extract team name\"\"\"\n",
    "    part = team_raw.split('\">')[1]\n",
    "    return part.split('</td>')[0].strip()\n",
    "\n",
    "def team_probability(team_raw):\n",
    "    \"\"\"extract win probability for team\n",
    "    apparently they put 'loser' and 'winner' in the class name when the game is complete\"\"\"\n",
    "    if 'loser\">' in team_raw:\n",
    "        return 0\n",
    "    elif 'winner\">' in team_raw:\n",
    "        return 1\n",
    "    else: \n",
    "        part = team_raw.split('%</td><td class=\"td number score\">')[0]\n",
    "        return float(part.split('>')[-1])/100"
   ]
  },
  {
   "cell_type": "code",
   "execution_count": 283,
   "metadata": {},
   "outputs": [
    {
     "name": "stdout",
     "output_type": "stream",
     "text": [
      "Green Bay New England\n",
      "0.2 0.8\n"
     ]
    }
   ],
   "source": [
    "# function example usage\n",
    "game = games[100]\n",
    "team1, team2 = team_split(game)\n",
    "print(team_name(team1), team_name(team2))\n",
    "print(team_probability(team1), team_probability(team2))"
   ]
  },
  {
   "cell_type": "code",
   "execution_count": 284,
   "metadata": {},
   "outputs": [
    {
     "data": {
      "text/html": [
       "<div>\n",
       "<style>\n",
       "    .dataframe thead tr:only-child th {\n",
       "        text-align: right;\n",
       "    }\n",
       "\n",
       "    .dataframe thead th {\n",
       "        text-align: left;\n",
       "    }\n",
       "\n",
       "    .dataframe tbody tr th {\n",
       "        vertical-align: top;\n",
       "    }\n",
       "</style>\n",
       "<table border=\"1\" class=\"dataframe\">\n",
       "  <thead>\n",
       "    <tr style=\"text-align: right;\">\n",
       "      <th></th>\n",
       "      <th>team1</th>\n",
       "      <th>team2</th>\n",
       "      <th>prob1</th>\n",
       "      <th>prob2</th>\n",
       "      <th>person1</th>\n",
       "      <th>person2</th>\n",
       "    </tr>\n",
       "  </thead>\n",
       "  <tbody>\n",
       "    <tr>\n",
       "      <th>0</th>\n",
       "      <td>N.Y. Jets</td>\n",
       "      <td>Cleveland</td>\n",
       "      <td>0.0</td>\n",
       "      <td>1.0</td>\n",
       "      <td>Josh</td>\n",
       "      <td></td>\n",
       "    </tr>\n",
       "    <tr>\n",
       "      <th>1</th>\n",
       "      <td>Buffalo</td>\n",
       "      <td>Minnesota</td>\n",
       "      <td>1.0</td>\n",
       "      <td>0.0</td>\n",
       "      <td>Ryan</td>\n",
       "      <td>Josh</td>\n",
       "    </tr>\n",
       "    <tr>\n",
       "      <th>2</th>\n",
       "      <td>Cincinnati</td>\n",
       "      <td>Carolina</td>\n",
       "      <td>0.0</td>\n",
       "      <td>1.0</td>\n",
       "      <td>Jon</td>\n",
       "      <td>Ryan</td>\n",
       "    </tr>\n",
       "    <tr>\n",
       "      <th>3</th>\n",
       "      <td>Denver</td>\n",
       "      <td>Baltimore</td>\n",
       "      <td>0.0</td>\n",
       "      <td>1.0</td>\n",
       "      <td>Micah</td>\n",
       "      <td>John</td>\n",
       "    </tr>\n",
       "    <tr>\n",
       "      <th>4</th>\n",
       "      <td>Green Bay</td>\n",
       "      <td>Washington</td>\n",
       "      <td>0.0</td>\n",
       "      <td>1.0</td>\n",
       "      <td>Jon</td>\n",
       "      <td>Josh</td>\n",
       "    </tr>\n",
       "  </tbody>\n",
       "</table>\n",
       "</div>"
      ],
      "text/plain": [
       "        team1       team2  prob1  prob2 person1 person2\n",
       "0   N.Y. Jets   Cleveland    0.0    1.0    Josh        \n",
       "1     Buffalo   Minnesota    1.0    0.0    Ryan    Josh\n",
       "2  Cincinnati    Carolina    0.0    1.0     Jon    Ryan\n",
       "3      Denver   Baltimore    0.0    1.0   Micah    John\n",
       "4   Green Bay  Washington    0.0    1.0     Jon    Josh"
      ]
     },
     "execution_count": 284,
     "metadata": {},
     "output_type": "execute_result"
    }
   ],
   "source": [
    "# build game probabilities data frame\n",
    "data = []\n",
    "for game in games:\n",
    "    team1, team2 = team_split(game)\n",
    "    team1_name, team2_name = team_name(team1), team_name(team2)\n",
    "    person1, person2 = team_assignment[team1_name], team_assignment[team2_name]\n",
    "    info = [team1_name, team2_name, team_probability(team1), team_probability(team2), person1, person2]\n",
    "    data.append(info)\n",
    "    \n",
    "cols = [\"team1\", \"team2\", \"prob1\", \"prob2\", \"person1\", \"person2\"]\n",
    "df = pd.DataFrame(data, columns=cols)\n",
    "df.to_csv(\"games.txt\", index=False)\n",
    "df[:5]"
   ]
  },
  {
   "cell_type": "code",
   "execution_count": 285,
   "metadata": {},
   "outputs": [
    {
     "data": {
      "text/plain": [
       "'\\ndf.loc[df.team1==\"Detroit\", \"prob1\"] = 1\\ndf.loc[df.team1==\"Detroit\", \"prob2\"] = 0\\ndf.loc[df.team2==\"Detroit\", \"prob1\"] = 0\\ndf.loc[df.team2==\"Detroit\", \"prob2\"] = 1\\ndf[(df.team1==\"Detroit\") | (df.team2==\"Detroit\")]\\n'"
      ]
     },
     "execution_count": 285,
     "metadata": {},
     "output_type": "execute_result"
    }
   ],
   "source": [
    "# test scenarios\n",
    "\"\"\"\n",
    "df.loc[df.team1==\"Detroit\", \"prob1\"] = 1\n",
    "df.loc[df.team1==\"Detroit\", \"prob2\"] = 0\n",
    "df.loc[df.team2==\"Detroit\", \"prob1\"] = 0\n",
    "df.loc[df.team2==\"Detroit\", \"prob2\"] = 1\n",
    "df[(df.team1==\"Detroit\") | (df.team2==\"Detroit\")]\n",
    "\"\"\""
   ]
  },
  {
   "cell_type": "code",
   "execution_count": 286,
   "metadata": {},
   "outputs": [
    {
     "data": {
      "text/html": [
       "<div>\n",
       "<style>\n",
       "    .dataframe thead tr:only-child th {\n",
       "        text-align: right;\n",
       "    }\n",
       "\n",
       "    .dataframe thead th {\n",
       "        text-align: left;\n",
       "    }\n",
       "\n",
       "    .dataframe tbody tr th {\n",
       "        vertical-align: top;\n",
       "    }\n",
       "</style>\n",
       "<table border=\"1\" class=\"dataframe\">\n",
       "  <thead>\n",
       "    <tr style=\"text-align: right;\">\n",
       "      <th></th>\n",
       "      <th>wins</th>\n",
       "      <th>max_possible</th>\n",
       "    </tr>\n",
       "    <tr>\n",
       "      <th>person</th>\n",
       "      <th></th>\n",
       "      <th></th>\n",
       "    </tr>\n",
       "  </thead>\n",
       "  <tbody>\n",
       "    <tr>\n",
       "      <th>John</th>\n",
       "      <td>6</td>\n",
       "      <td>45</td>\n",
       "    </tr>\n",
       "    <tr>\n",
       "      <th>Micah</th>\n",
       "      <td>6</td>\n",
       "      <td>45</td>\n",
       "    </tr>\n",
       "    <tr>\n",
       "      <th>Ryan</th>\n",
       "      <td>6</td>\n",
       "      <td>45</td>\n",
       "    </tr>\n",
       "    <tr>\n",
       "      <th>Brad</th>\n",
       "      <td>6</td>\n",
       "      <td>43</td>\n",
       "    </tr>\n",
       "    <tr>\n",
       "      <th>Brian</th>\n",
       "      <td>4</td>\n",
       "      <td>43</td>\n",
       "    </tr>\n",
       "    <tr>\n",
       "      <th>Aaron</th>\n",
       "      <td>4</td>\n",
       "      <td>42</td>\n",
       "    </tr>\n",
       "    <tr>\n",
       "      <th>Jon</th>\n",
       "      <td>4</td>\n",
       "      <td>42</td>\n",
       "    </tr>\n",
       "    <tr>\n",
       "      <th>Josh</th>\n",
       "      <td>4</td>\n",
       "      <td>42</td>\n",
       "    </tr>\n",
       "    <tr>\n",
       "      <th>Matt</th>\n",
       "      <td>2</td>\n",
       "      <td>39</td>\n",
       "    </tr>\n",
       "    <tr>\n",
       "      <th>Colin</th>\n",
       "      <td>1</td>\n",
       "      <td>39</td>\n",
       "    </tr>\n",
       "  </tbody>\n",
       "</table>\n",
       "</div>"
      ],
      "text/plain": [
       "        wins  max_possible\n",
       "person                    \n",
       "John       6            45\n",
       "Micah      6            45\n",
       "Ryan       6            45\n",
       "Brad       6            43\n",
       "Brian      4            43\n",
       "Aaron      4            42\n",
       "Jon        4            42\n",
       "Josh       4            42\n",
       "Matt       2            39\n",
       "Colin      1            39"
      ]
     },
     "execution_count": 286,
     "metadata": {},
     "output_type": "execute_result"
    }
   ],
   "source": [
    "# current and best possible score by person\n",
    "current = []\n",
    "for p in persons:\n",
    "    certain_win = possible_win = ((df.person1==p) & (df.prob1==1)) | ((df.person2==p) & (df.prob2==1))\n",
    "    possible_win = ((df.person1==p) & (df.prob1>0)) | ((df.person2==p) & (df.prob2>0))\n",
    "    current.append([p, certain_win.sum(), possible_win.sum()])\n",
    "    \n",
    "df_current = pd.DataFrame(current, columns=['person', 'wins', 'max_possible']).set_index(\"person\")\n",
    "df_formatted = df_current.sort_values(['wins','max_possible'], ascending=False)\n",
    "df_formatted.to_csv(\"scores.txt\", sep=\" \", header=False)\n",
    "df_formatted"
   ]
  },
  {
   "cell_type": "code",
   "execution_count": 287,
   "metadata": {},
   "outputs": [
    {
     "data": {
      "text/plain": [
       "(20000, 256)"
      ]
     },
     "execution_count": 287,
     "metadata": {},
     "output_type": "execute_result"
    }
   ],
   "source": [
    "# simulate seasons\n",
    "n_sims = 20000\n",
    "sims = []\n",
    "for index, g in df.iterrows():\n",
    "    a = [g['person1'], g['person2']]\n",
    "    p = [g['prob1'], g['prob2']]\n",
    "    if sum(p) != 0:\n",
    "        game_sims = np.random.choice(a, n_sims, p=p)\n",
    "    sims.append(game_sims)\n",
    "\n",
    "sims = np.array(sims).T\n",
    "sims.shape"
   ]
  },
  {
   "cell_type": "code",
   "execution_count": 288,
   "metadata": {},
   "outputs": [
    {
     "name": "stdout",
     "output_type": "stream",
     "text": [
      "(20000, 10)\n"
     ]
    },
    {
     "data": {
      "text/html": [
       "<div>\n",
       "<style>\n",
       "    .dataframe thead tr:only-child th {\n",
       "        text-align: right;\n",
       "    }\n",
       "\n",
       "    .dataframe thead th {\n",
       "        text-align: left;\n",
       "    }\n",
       "\n",
       "    .dataframe tbody tr th {\n",
       "        vertical-align: top;\n",
       "    }\n",
       "</style>\n",
       "<table border=\"1\" class=\"dataframe\">\n",
       "  <thead>\n",
       "    <tr style=\"text-align: right;\">\n",
       "      <th></th>\n",
       "      <th>Aaron</th>\n",
       "      <th>Brad</th>\n",
       "      <th>Brian</th>\n",
       "      <th>Colin</th>\n",
       "      <th>John</th>\n",
       "      <th>Jon</th>\n",
       "      <th>Josh</th>\n",
       "      <th>Matt</th>\n",
       "      <th>Micah</th>\n",
       "      <th>Ryan</th>\n",
       "    </tr>\n",
       "  </thead>\n",
       "  <tbody>\n",
       "    <tr>\n",
       "      <th>0</th>\n",
       "      <td>22</td>\n",
       "      <td>34</td>\n",
       "      <td>25</td>\n",
       "      <td>20</td>\n",
       "      <td>24</td>\n",
       "      <td>21</td>\n",
       "      <td>23</td>\n",
       "      <td>21</td>\n",
       "      <td>26</td>\n",
       "      <td>32</td>\n",
       "    </tr>\n",
       "    <tr>\n",
       "      <th>1</th>\n",
       "      <td>24</td>\n",
       "      <td>28</td>\n",
       "      <td>32</td>\n",
       "      <td>18</td>\n",
       "      <td>26</td>\n",
       "      <td>23</td>\n",
       "      <td>20</td>\n",
       "      <td>19</td>\n",
       "      <td>22</td>\n",
       "      <td>32</td>\n",
       "    </tr>\n",
       "    <tr>\n",
       "      <th>2</th>\n",
       "      <td>28</td>\n",
       "      <td>33</td>\n",
       "      <td>29</td>\n",
       "      <td>14</td>\n",
       "      <td>31</td>\n",
       "      <td>22</td>\n",
       "      <td>21</td>\n",
       "      <td>21</td>\n",
       "      <td>19</td>\n",
       "      <td>27</td>\n",
       "    </tr>\n",
       "    <tr>\n",
       "      <th>3</th>\n",
       "      <td>27</td>\n",
       "      <td>34</td>\n",
       "      <td>24</td>\n",
       "      <td>17</td>\n",
       "      <td>22</td>\n",
       "      <td>28</td>\n",
       "      <td>19</td>\n",
       "      <td>21</td>\n",
       "      <td>24</td>\n",
       "      <td>29</td>\n",
       "    </tr>\n",
       "    <tr>\n",
       "      <th>4</th>\n",
       "      <td>23</td>\n",
       "      <td>31</td>\n",
       "      <td>25</td>\n",
       "      <td>19</td>\n",
       "      <td>25</td>\n",
       "      <td>21</td>\n",
       "      <td>24</td>\n",
       "      <td>26</td>\n",
       "      <td>24</td>\n",
       "      <td>31</td>\n",
       "    </tr>\n",
       "  </tbody>\n",
       "</table>\n",
       "</div>"
      ],
      "text/plain": [
       "   Aaron  Brad  Brian  Colin  John  Jon  Josh  Matt  Micah  Ryan\n",
       "0     22    34     25     20    24   21    23    21     26    32\n",
       "1     24    28     32     18    26   23    20    19     22    32\n",
       "2     28    33     29     14    31   22    21    21     19    27\n",
       "3     27    34     24     17    22   28    19    21     24    29\n",
       "4     23    31     25     19    25   21    24    26     24    31"
      ]
     },
     "execution_count": 288,
     "metadata": {},
     "output_type": "execute_result"
    }
   ],
   "source": [
    "# aggregate seasons into scores for each person\n",
    "df_wins = pd.DataFrame([Counter(s) for s in sims])[persons]\n",
    "print(df_wins.shape)\n",
    "df_wins[:5]"
   ]
  },
  {
   "cell_type": "code",
   "execution_count": 289,
   "metadata": {},
   "outputs": [
    {
     "data": {
      "text/html": [
       "<div>\n",
       "<style>\n",
       "    .dataframe thead tr:only-child th {\n",
       "        text-align: right;\n",
       "    }\n",
       "\n",
       "    .dataframe thead th {\n",
       "        text-align: left;\n",
       "    }\n",
       "\n",
       "    .dataframe tbody tr th {\n",
       "        vertical-align: top;\n",
       "    }\n",
       "</style>\n",
       "<table border=\"1\" class=\"dataframe\">\n",
       "  <thead>\n",
       "    <tr style=\"text-align: right;\">\n",
       "      <th></th>\n",
       "      <th>Aaron</th>\n",
       "      <th>Brad</th>\n",
       "      <th>Brian</th>\n",
       "      <th>Colin</th>\n",
       "      <th>John</th>\n",
       "      <th>Jon</th>\n",
       "      <th>Josh</th>\n",
       "      <th>Matt</th>\n",
       "      <th>Micah</th>\n",
       "      <th>Ryan</th>\n",
       "    </tr>\n",
       "  </thead>\n",
       "  <tbody>\n",
       "    <tr>\n",
       "      <th>0</th>\n",
       "      <td>7</td>\n",
       "      <td>1</td>\n",
       "      <td>4</td>\n",
       "      <td>10</td>\n",
       "      <td>5</td>\n",
       "      <td>8</td>\n",
       "      <td>6</td>\n",
       "      <td>8</td>\n",
       "      <td>3</td>\n",
       "      <td>2</td>\n",
       "    </tr>\n",
       "    <tr>\n",
       "      <th>1</th>\n",
       "      <td>5</td>\n",
       "      <td>3</td>\n",
       "      <td>1</td>\n",
       "      <td>10</td>\n",
       "      <td>4</td>\n",
       "      <td>6</td>\n",
       "      <td>8</td>\n",
       "      <td>9</td>\n",
       "      <td>7</td>\n",
       "      <td>1</td>\n",
       "    </tr>\n",
       "    <tr>\n",
       "      <th>2</th>\n",
       "      <td>4</td>\n",
       "      <td>1</td>\n",
       "      <td>3</td>\n",
       "      <td>10</td>\n",
       "      <td>2</td>\n",
       "      <td>6</td>\n",
       "      <td>7</td>\n",
       "      <td>7</td>\n",
       "      <td>9</td>\n",
       "      <td>5</td>\n",
       "    </tr>\n",
       "    <tr>\n",
       "      <th>3</th>\n",
       "      <td>4</td>\n",
       "      <td>1</td>\n",
       "      <td>5</td>\n",
       "      <td>10</td>\n",
       "      <td>7</td>\n",
       "      <td>3</td>\n",
       "      <td>9</td>\n",
       "      <td>8</td>\n",
       "      <td>5</td>\n",
       "      <td>2</td>\n",
       "    </tr>\n",
       "    <tr>\n",
       "      <th>4</th>\n",
       "      <td>8</td>\n",
       "      <td>1</td>\n",
       "      <td>4</td>\n",
       "      <td>10</td>\n",
       "      <td>4</td>\n",
       "      <td>9</td>\n",
       "      <td>6</td>\n",
       "      <td>3</td>\n",
       "      <td>6</td>\n",
       "      <td>1</td>\n",
       "    </tr>\n",
       "  </tbody>\n",
       "</table>\n",
       "</div>"
      ],
      "text/plain": [
       "   Aaron  Brad  Brian  Colin  John  Jon  Josh  Matt  Micah  Ryan\n",
       "0      7     1      4     10     5    8     6     8      3     2\n",
       "1      5     3      1     10     4    6     8     9      7     1\n",
       "2      4     1      3     10     2    6     7     7      9     5\n",
       "3      4     1      5     10     7    3     9     8      5     2\n",
       "4      8     1      4     10     4    9     6     3      6     1"
      ]
     },
     "execution_count": 289,
     "metadata": {},
     "output_type": "execute_result"
    }
   ],
   "source": [
    "# use min method because ties take from following placements\n",
    "# mistakenly used dense at first\n",
    "df_rank = df_wins.rank(axis=1, method=\"min\", ascending=False).astype(int)\n",
    "df_rank[:5]"
   ]
  },
  {
   "cell_type": "code",
   "execution_count": 290,
   "metadata": {},
   "outputs": [
    {
     "data": {
      "text/html": [
       "<style  type=\"text/css\" >\n",
       "</style>  \n",
       "<table id=\"T_6c389376_bf96_11e8_8c70_c82158b0740c\" > \n",
       "<thead>    <tr> \n",
       "        <th class=\"blank level0\" ></th> \n",
       "        <th class=\"col_heading level0 col0\" >1</th> \n",
       "        <th class=\"col_heading level0 col1\" >2</th> \n",
       "        <th class=\"col_heading level0 col2\" >3</th> \n",
       "    </tr></thead> \n",
       "<tbody>    <tr> \n",
       "        <th id=\"T_6c389376_bf96_11e8_8c70_c82158b0740clevel0_row0\" class=\"row_heading level0 row0\" >Brad</th> \n",
       "        <td id=\"T_6c389376_bf96_11e8_8c70_c82158b0740crow0_col0\" class=\"data row0 col0\" >37.5%</td> \n",
       "        <td id=\"T_6c389376_bf96_11e8_8c70_c82158b0740crow0_col1\" class=\"data row0 col1\" >24.8%</td> \n",
       "        <td id=\"T_6c389376_bf96_11e8_8c70_c82158b0740crow0_col2\" class=\"data row0 col2\" >15.6%</td> \n",
       "    </tr>    <tr> \n",
       "        <th id=\"T_6c389376_bf96_11e8_8c70_c82158b0740clevel0_row1\" class=\"row_heading level0 row1\" >Ryan</th> \n",
       "        <td id=\"T_6c389376_bf96_11e8_8c70_c82158b0740crow1_col0\" class=\"data row1 col0\" >37.2%</td> \n",
       "        <td id=\"T_6c389376_bf96_11e8_8c70_c82158b0740crow1_col1\" class=\"data row1 col1\" >24.0%</td> \n",
       "        <td id=\"T_6c389376_bf96_11e8_8c70_c82158b0740crow1_col2\" class=\"data row1 col2\" >15.4%</td> \n",
       "    </tr>    <tr> \n",
       "        <th id=\"T_6c389376_bf96_11e8_8c70_c82158b0740clevel0_row2\" class=\"row_heading level0 row2\" >Brian</th> \n",
       "        <td id=\"T_6c389376_bf96_11e8_8c70_c82158b0740crow2_col0\" class=\"data row2 col0\" >20.1%</td> \n",
       "        <td id=\"T_6c389376_bf96_11e8_8c70_c82158b0740crow2_col1\" class=\"data row2 col1\" >21.4%</td> \n",
       "        <td id=\"T_6c389376_bf96_11e8_8c70_c82158b0740crow2_col2\" class=\"data row2 col2\" >18.7%</td> \n",
       "    </tr>    <tr> \n",
       "        <th id=\"T_6c389376_bf96_11e8_8c70_c82158b0740clevel0_row3\" class=\"row_heading level0 row3\" >Micah</th> \n",
       "        <td id=\"T_6c389376_bf96_11e8_8c70_c82158b0740crow3_col0\" class=\"data row3 col0\" >8.6%</td> \n",
       "        <td id=\"T_6c389376_bf96_11e8_8c70_c82158b0740crow3_col1\" class=\"data row3 col1\" >11.5%</td> \n",
       "        <td id=\"T_6c389376_bf96_11e8_8c70_c82158b0740crow3_col2\" class=\"data row3 col2\" >13.8%</td> \n",
       "    </tr>    <tr> \n",
       "        <th id=\"T_6c389376_bf96_11e8_8c70_c82158b0740clevel0_row4\" class=\"row_heading level0 row4\" >John</th> \n",
       "        <td id=\"T_6c389376_bf96_11e8_8c70_c82158b0740crow4_col0\" class=\"data row4 col0\" >7.3%</td> \n",
       "        <td id=\"T_6c389376_bf96_11e8_8c70_c82158b0740crow4_col1\" class=\"data row4 col1\" >10.9%</td> \n",
       "        <td id=\"T_6c389376_bf96_11e8_8c70_c82158b0740crow4_col2\" class=\"data row4 col2\" >13.7%</td> \n",
       "    </tr>    <tr> \n",
       "        <th id=\"T_6c389376_bf96_11e8_8c70_c82158b0740clevel0_row5\" class=\"row_heading level0 row5\" >Aaron</th> \n",
       "        <td id=\"T_6c389376_bf96_11e8_8c70_c82158b0740crow5_col0\" class=\"data row5 col0\" >6.6%</td> \n",
       "        <td id=\"T_6c389376_bf96_11e8_8c70_c82158b0740crow5_col1\" class=\"data row5 col1\" >10.4%</td> \n",
       "        <td id=\"T_6c389376_bf96_11e8_8c70_c82158b0740crow5_col2\" class=\"data row5 col2\" >14.2%</td> \n",
       "    </tr>    <tr> \n",
       "        <th id=\"T_6c389376_bf96_11e8_8c70_c82158b0740clevel0_row6\" class=\"row_heading level0 row6\" >Jon</th> \n",
       "        <td id=\"T_6c389376_bf96_11e8_8c70_c82158b0740crow6_col0\" class=\"data row6 col0\" >1.6%</td> \n",
       "        <td id=\"T_6c389376_bf96_11e8_8c70_c82158b0740crow6_col1\" class=\"data row6 col1\" >3.5%</td> \n",
       "        <td id=\"T_6c389376_bf96_11e8_8c70_c82158b0740crow6_col2\" class=\"data row6 col2\" >6.4%</td> \n",
       "    </tr>    <tr> \n",
       "        <th id=\"T_6c389376_bf96_11e8_8c70_c82158b0740clevel0_row7\" class=\"row_heading level0 row7\" >Josh</th> \n",
       "        <td id=\"T_6c389376_bf96_11e8_8c70_c82158b0740crow7_col0\" class=\"data row7 col0\" >1.0%</td> \n",
       "        <td id=\"T_6c389376_bf96_11e8_8c70_c82158b0740crow7_col1\" class=\"data row7 col1\" >2.1%</td> \n",
       "        <td id=\"T_6c389376_bf96_11e8_8c70_c82158b0740crow7_col2\" class=\"data row7 col2\" >3.9%</td> \n",
       "    </tr>    <tr> \n",
       "        <th id=\"T_6c389376_bf96_11e8_8c70_c82158b0740clevel0_row8\" class=\"row_heading level0 row8\" >Matt</th> \n",
       "        <td id=\"T_6c389376_bf96_11e8_8c70_c82158b0740crow8_col0\" class=\"data row8 col0\" >0.5%</td> \n",
       "        <td id=\"T_6c389376_bf96_11e8_8c70_c82158b0740crow8_col1\" class=\"data row8 col1\" >1.4%</td> \n",
       "        <td id=\"T_6c389376_bf96_11e8_8c70_c82158b0740crow8_col2\" class=\"data row8 col2\" >3.2%</td> \n",
       "    </tr>    <tr> \n",
       "        <th id=\"T_6c389376_bf96_11e8_8c70_c82158b0740clevel0_row9\" class=\"row_heading level0 row9\" >Colin</th> \n",
       "        <td id=\"T_6c389376_bf96_11e8_8c70_c82158b0740crow9_col0\" class=\"data row9 col0\" >0.0%</td> \n",
       "        <td id=\"T_6c389376_bf96_11e8_8c70_c82158b0740crow9_col1\" class=\"data row9 col1\" >0.0%</td> \n",
       "        <td id=\"T_6c389376_bf96_11e8_8c70_c82158b0740crow9_col2\" class=\"data row9 col2\" >0.0%</td> \n",
       "    </tr></tbody> \n",
       "</table> "
      ],
      "text/plain": [
       "<pandas.io.formats.style.Styler at 0x20604968eb8>"
      ]
     },
     "execution_count": 290,
     "metadata": {},
     "output_type": "execute_result"
    }
   ],
   "source": [
    "rank1 = (df_rank==1).sum(0) / n_sims\n",
    "rank2 = (df_rank==2).sum(0) / n_sims\n",
    "rank3 = (df_rank==3).sum(0) / n_sims\n",
    "\n",
    "probs = pd.concat([rank1, rank2, rank3], axis=1)\n",
    "probs.columns = [\"1\", \"2\", \"3\"]\n",
    "probs.sort_values(\"1\", ascending=False).style.format(\"{:.1%}\")"
   ]
  },
  {
   "cell_type": "code",
   "execution_count": 272,
   "metadata": {
    "collapsed": true
   },
   "outputs": [],
   "source": [
    "formatted = (probs*100).sort_values(\"1\", ascending=False).round(0).astype(int).astype(str)+'%'\n",
    "formatted.to_csv(\"probabilities.txt\", sep=\" \", header=False)"
   ]
  },
  {
   "cell_type": "code",
   "execution_count": 273,
   "metadata": {
    "collapsed": true
   },
   "outputs": [],
   "source": [
    "import seaborn as sns\n",
    "%matplotlib inline"
   ]
  },
  {
   "cell_type": "code",
   "execution_count": 274,
   "metadata": {
    "collapsed": true
   },
   "outputs": [],
   "source": [
    "person_sort = probs.sort_values(\"1\", ascending=False).index"
   ]
  },
  {
   "cell_type": "code",
   "execution_count": 275,
   "metadata": {},
   "outputs": [
    {
     "data": {
      "text/plain": [
       "<matplotlib.axes._subplots.AxesSubplot at 0x2060497ff28>"
      ]
     },
     "execution_count": 275,
     "metadata": {},
     "output_type": "execute_result"
    },
    {
     "data": {
      "image/png": "[encoded data removed]",
      "text/plain": [
       "<matplotlib.figure.Figure at 0x206048d21d0>"
      ]
     },
     "metadata": {},
     "output_type": "display_data"
    }
   ],
   "source": [
    "# score distribution for individual players\n",
    "dist_df = []\n",
    "for person in persons:\n",
    "    dist_df.append(pd.DataFrame(df_wins.groupby(person).size() / n_sims))\n",
    "\n",
    "dist_df = pd.concat(dist_df, axis=1).fillna(0)\n",
    "dist_df.columns = persons\n",
    "#dist_df.style.format(\"{:.1%}\")\n",
    "sns.heatmap(dist_df[person_sort], annot=False)"
   ]
  },
  {
   "cell_type": "code",
   "execution_count": 276,
   "metadata": {
    "collapsed": true
   },
   "outputs": [],
   "source": [
    "# union team data to compute wins\n",
    "a = df[[\"person1\", \"team1\", \"prob1\"]].rename(columns={\"person1\":\"person\", \"team1\":\"team\", \"prob1\":\"prob\"})\n",
    "b = df[[\"person2\", \"team2\", \"prob2\"]].rename(columns={\"person2\":\"person\", \"team2\":\"team\", \"prob2\":\"prob\"})\n",
    "df_union = pd.concat([a, b], axis=0, ignore_index=True)\n",
    "df_union[\"win\"] = (df_union[\"prob\"] == 1).astype(int)\n",
    "totals = df_union.groupby([\"person\", \"team\"]).sum().reset_index()"
   ]
  },
  {
   "cell_type": "code",
   "execution_count": 277,
   "metadata": {},
   "outputs": [
    {
     "data": {
      "text/plain": [
       "951"
      ]
     },
     "execution_count": 277,
     "metadata": {},
     "output_type": "execute_result"
    }
   ],
   "source": [
    "# text for Notes app\n",
    "text = ''\n",
    "for person in persons:\n",
    "    team_scores = totals[totals.person==person]\n",
    "    score_text = \"\\n\".join(\" - \" + team_scores.team + \": \" + team_scores.win.astype(str))\n",
    "    person_total = \"TOTAL: \" + str(team_scores.win.sum())\n",
    "    person_max = \"MAX: \" + str(df_current.loc[person].max_possible)\n",
    "    placement_prob = \"1st 2nd 3rd: \" + \" \".join((probs.loc[person]*100).round(0).astype(int).astype(str) + \"%\")\n",
    "    parts = [person, score_text, person_total, person_max, placement_prob, \"\\n\"]\n",
    "    text += \"\\n\".join(parts)\n",
    "    \n",
    "open(\"report.txt\", \"w\").write(text)"
   ]
  },
  {
   "cell_type": "code",
   "execution_count": null,
   "metadata": {
    "collapsed": true
   },
   "outputs": [],
   "source": []
  }
 ],
 "metadata": {
  "kernelspec": {
   "display_name": "Python 3",
   "language": "python",
   "name": "python3"
  },
  "language_info": {
   "codemirror_mode": {
    "name": "ipython",
    "version": 3
   },
   "file_extension": ".py",
   "mimetype": "text/x-python",
   "name": "python",
   "nbconvert_exporter": "python",
   "pygments_lexer": "ipython3",
   "version": "3.6.3"
  }
 },
 "nbformat": 4,
 "nbformat_minor": 2
}
