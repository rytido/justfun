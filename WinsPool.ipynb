{
 "cells": [
  {
   "cell_type": "code",
   "execution_count": 1,
   "metadata": {
    "collapsed": true
   },
   "outputs": [],
   "source": [
    "import requests\n",
    "import numpy as np\n",
    "import pandas as pd\n",
    "from collections import Counter\n",
    "import seaborn as sns\n",
    "%matplotlib inline"
   ]
  },
  {
   "cell_type": "code",
   "execution_count": 2,
   "metadata": {
    "collapsed": true
   },
   "outputs": [],
   "source": [
    "draft_order = ['Aaron', 'John', 'Brian', 'Josh', 'Brad', 'Micah', 'Matt', 'Jon', 'Ryan', 'Colin', \n",
    "               'Matt', 'Colin', 'Brian', 'Ryan', 'Brad', 'John', 'Jon', 'Josh', 'Micah', 'Aaron', \n",
    "               'Jon', 'Micah', 'Ryan', 'Colin', 'Josh', 'Aaron', 'Brad', 'Matt', 'John', 'Brian','','']"
   ]
  },
  {
   "cell_type": "code",
   "execution_count": 143,
   "metadata": {},
   "outputs": [
    {
     "data": {
      "text/plain": [
       "{'Arizona': '',\n",
       " 'Atlanta': 'Aaron',\n",
       " 'Baltimore': 'Colin',\n",
       " 'Buffalo': 'Josh',\n",
       " 'Carolina': 'Colin',\n",
       " 'Chicago': 'Ryan',\n",
       " 'Cincinnati': 'Brian',\n",
       " 'Cleveland': 'Colin',\n",
       " 'Dallas': 'Ryan',\n",
       " 'Denver': 'Micah',\n",
       " 'Detroit': 'Jon',\n",
       " 'Green Bay': 'Aaron',\n",
       " 'Houston': 'John',\n",
       " 'Indianapolis': 'Matt',\n",
       " 'Jacksonville': 'Brad',\n",
       " 'Kansas City': 'John',\n",
       " 'L.A. Chargers': 'Jon',\n",
       " 'L.A. Rams': 'Aaron',\n",
       " 'Miami': 'Josh',\n",
       " 'Minnesota': 'Jon',\n",
       " 'N.Y. Giants': 'Brad',\n",
       " 'N.Y. Jets': 'John',\n",
       " 'New England': 'Micah',\n",
       " 'New Orleans': 'Matt',\n",
       " 'Oakland': 'Brian',\n",
       " 'Philadelphia': 'Brad',\n",
       " 'Pittsburgh': 'Josh',\n",
       " 'San Francisco': '',\n",
       " 'Seattle': 'Brian',\n",
       " 'Tampa Bay': 'Ryan',\n",
       " 'Tennessee': 'Matt',\n",
       " 'Washington': 'Micah'}"
      ]
     },
     "execution_count": 143,
     "metadata": {},
     "output_type": "execute_result"
    }
   ],
   "source": [
    "# for determining optimal assigments given current scores\n",
    "# must run code below before this\n",
    "team_ranking = df_union.groupby([\"team\"])[[\"win\"]].sum().sort_values('win', ascending=False)\n",
    "team_assignment = {t:p for t,p in zip(team_ranking.index, draft_order)}\n",
    "team_assignment"
   ]
  },
  {
   "cell_type": "code",
   "execution_count": 2,
   "metadata": {
    "collapsed": true
   },
   "outputs": [],
   "source": [
    "# got team names from set(df.team1).union(df.team2)\n",
    "# Arizona and Cleveland unassigned\n",
    "team_assignment = {\n",
    " 'Arizona': '',\n",
    " 'Atlanta': 'Matt',\n",
    " 'Baltimore': 'John',\n",
    " 'Buffalo': 'Ryan',\n",
    " 'Carolina': 'Ryan',\n",
    " 'Chicago': 'Aaron',\n",
    " 'Cincinnati': 'Jon',\n",
    " 'Cleveland': '',\n",
    " 'Dallas': 'Brad',\n",
    " 'Denver': 'Micah',\n",
    " 'Detroit': 'Colin',\n",
    " 'Green Bay': 'Jon',\n",
    " 'Houston': 'Colin',\n",
    " 'Indianapolis': 'Colin',\n",
    " 'Jacksonville': 'Brian',\n",
    " 'Kansas City': 'Ryan',\n",
    " 'L.A. Chargers': 'Matt',\n",
    " 'L.A. Rams': 'John',\n",
    " 'Miami': 'Brad',\n",
    " 'Minnesota': 'Josh',\n",
    " 'N.Y. Giants': 'John',\n",
    " 'N.Y. Jets': 'Josh',\n",
    " 'New England': 'Aaron',\n",
    " 'New Orleans': 'Micah',\n",
    " 'Oakland': 'Matt',\n",
    " 'Philadelphia': 'Brad',\n",
    " 'Pittsburgh': 'Brian',\n",
    " 'San Francisco': 'Aaron',\n",
    " 'Seattle': 'Jon',\n",
    " 'Tampa Bay': 'Brian',\n",
    " 'Tennessee': 'Micah',\n",
    " 'Washington': 'Josh'}"
   ]
  },
  {
   "cell_type": "code",
   "execution_count": 3,
   "metadata": {},
   "outputs": [
    {
     "data": {
      "text/plain": [
       "['Aaron',\n",
       " 'Brad',\n",
       " 'Brian',\n",
       " 'Colin',\n",
       " 'John',\n",
       " 'Jon',\n",
       " 'Josh',\n",
       " 'Matt',\n",
       " 'Micah',\n",
       " 'Ryan']"
      ]
     },
     "execution_count": 3,
     "metadata": {},
     "output_type": "execute_result"
    }
   ],
   "source": [
    "persons = sorted(list(set(p for p in team_assignment.values() if p!='')))\n",
    "persons"
   ]
  },
  {
   "cell_type": "code",
   "execution_count": 4,
   "metadata": {
    "collapsed": true
   },
   "outputs": [],
   "source": [
    "def team_split(game):\n",
    "    \"\"\"split team text\"\"\"\n",
    "    return game.split('<td class=\"td text team')[1:]\n",
    "\n",
    "def team_name(team_raw):\n",
    "    \"\"\"extract team name\"\"\"\n",
    "    part = team_raw.split('\">')[1]\n",
    "    return part.split('</td>')[0].strip()\n",
    "\n",
    "def team_probability(team_raw):\n",
    "    \"\"\"extract win probability for team\n",
    "    apparently they put 'loser' and 'winner' in the class name when the game is complete\"\"\"\n",
    "    if 'loser\">' in team_raw:\n",
    "        return 0\n",
    "    elif 'winner\">' in team_raw:\n",
    "        return 1\n",
    "    else: \n",
    "        part = team_raw.split('%</td><td class=\"td number score\">')[0]\n",
    "        return float(part.split('>')[-1])/100\n",
    "    \n",
    "def game_dates(raw):\n",
    "    \"\"\"get game dates\"\"\"\n",
    "    games = raw.split('<table class=\"game-body\">')\n",
    "    date_class = '<div class=\"day\"><h4 class=\"h4\">'\n",
    "    dates = []\n",
    "    for g in games:\n",
    "        if date_class in g:\n",
    "            game_date = g.split(date_class)[1].split('</h4>')[0]\n",
    "        dates.append(game_date)\n",
    "    return dates[:256]\n",
    "\n",
    "def game_weeks(raw):\n",
    "    \"\"\"get game weeks\"\"\"\n",
    "    games = raw.split('<table class=\"game-body\">')\n",
    "    week_class = '<h3 class=\"h3\">Week '\n",
    "    weeks = []\n",
    "    for g in games:\n",
    "        if week_class in g:\n",
    "            game_week = int(g.split(week_class)[1].split('</h3>')[0])\n",
    "        weeks.append(game_week)\n",
    "    return weeks[:256]"
   ]
  },
  {
   "cell_type": "code",
   "execution_count": 5,
   "metadata": {},
   "outputs": [
    {
     "data": {
      "text/plain": [
       "256"
      ]
     },
     "execution_count": 5,
     "metadata": {},
     "output_type": "execute_result"
    }
   ],
   "source": [
    "# get full html of page\n",
    "r = requests.get(\"https://projects.fivethirtyeight.com/2018-nfl-predictions/games/\")\n",
    "\n",
    "raw = r.text\n",
    "\n",
    "# html for each game table\n",
    "# first element is not relevant\n",
    "games = raw.split('<table class=\"game-body\">')[1:]\n",
    "len(games)"
   ]
  },
  {
   "cell_type": "code",
   "execution_count": 6,
   "metadata": {},
   "outputs": [
    {
     "data": {
      "text/plain": [
       "{1, 2, 3, 4, 5, 6, 7, 8, 9, 10, 11, 12, 13, 14, 15, 16, 17}"
      ]
     },
     "execution_count": 6,
     "metadata": {},
     "output_type": "execute_result"
    }
   ],
   "source": [
    "weeks = game_weeks(raw)\n",
    "set(weeks)"
   ]
  },
  {
   "cell_type": "code",
   "execution_count": 7,
   "metadata": {},
   "outputs": [
    {
     "name": "stdout",
     "output_type": "stream",
     "text": [
      "Jacksonville Houston\n",
      "0.32 0.68\n"
     ]
    }
   ],
   "source": [
    "# function example usage\n",
    "game = games[100]\n",
    "team1, team2 = team_split(game)\n",
    "print(team_name(team1), team_name(team2))\n",
    "print(team_probability(team1), team_probability(team2))"
   ]
  },
  {
   "cell_type": "code",
   "execution_count": 8,
   "metadata": {},
   "outputs": [
    {
     "data": {
      "text/html": [
       "<div>\n",
       "<style>\n",
       "    .dataframe thead tr:only-child th {\n",
       "        text-align: right;\n",
       "    }\n",
       "\n",
       "    .dataframe thead th {\n",
       "        text-align: left;\n",
       "    }\n",
       "\n",
       "    .dataframe tbody tr th {\n",
       "        vertical-align: top;\n",
       "    }\n",
       "</style>\n",
       "<table border=\"1\" class=\"dataframe\">\n",
       "  <thead>\n",
       "    <tr style=\"text-align: right;\">\n",
       "      <th></th>\n",
       "      <th>team1</th>\n",
       "      <th>team2</th>\n",
       "      <th>prob1</th>\n",
       "      <th>prob2</th>\n",
       "      <th>person1</th>\n",
       "      <th>person2</th>\n",
       "      <th>week</th>\n",
       "    </tr>\n",
       "  </thead>\n",
       "  <tbody>\n",
       "    <tr>\n",
       "      <th>0</th>\n",
       "      <td>Green Bay</td>\n",
       "      <td>Seattle</td>\n",
       "      <td>0.0</td>\n",
       "      <td>1.0</td>\n",
       "      <td>Jon</td>\n",
       "      <td>Jon</td>\n",
       "      <td>11</td>\n",
       "    </tr>\n",
       "    <tr>\n",
       "      <th>1</th>\n",
       "      <td>Carolina</td>\n",
       "      <td>Detroit</td>\n",
       "      <td>0.0</td>\n",
       "      <td>1.0</td>\n",
       "      <td>Ryan</td>\n",
       "      <td>Colin</td>\n",
       "      <td>11</td>\n",
       "    </tr>\n",
       "    <tr>\n",
       "      <th>2</th>\n",
       "      <td>Cincinnati</td>\n",
       "      <td>Baltimore</td>\n",
       "      <td>0.0</td>\n",
       "      <td>1.0</td>\n",
       "      <td>Jon</td>\n",
       "      <td>John</td>\n",
       "      <td>11</td>\n",
       "    </tr>\n",
       "    <tr>\n",
       "      <th>3</th>\n",
       "      <td>Dallas</td>\n",
       "      <td>Atlanta</td>\n",
       "      <td>1.0</td>\n",
       "      <td>0.0</td>\n",
       "      <td>Brad</td>\n",
       "      <td>Matt</td>\n",
       "      <td>11</td>\n",
       "    </tr>\n",
       "    <tr>\n",
       "      <th>4</th>\n",
       "      <td>Houston</td>\n",
       "      <td>Washington</td>\n",
       "      <td>1.0</td>\n",
       "      <td>0.0</td>\n",
       "      <td>Colin</td>\n",
       "      <td>Josh</td>\n",
       "      <td>11</td>\n",
       "    </tr>\n",
       "  </tbody>\n",
       "</table>\n",
       "</div>"
      ],
      "text/plain": [
       "        team1       team2  prob1  prob2 person1 person2  week\n",
       "0   Green Bay     Seattle    0.0    1.0     Jon     Jon    11\n",
       "1    Carolina     Detroit    0.0    1.0    Ryan   Colin    11\n",
       "2  Cincinnati   Baltimore    0.0    1.0     Jon    John    11\n",
       "3      Dallas     Atlanta    1.0    0.0    Brad    Matt    11\n",
       "4     Houston  Washington    1.0    0.0   Colin    Josh    11"
      ]
     },
     "execution_count": 8,
     "metadata": {},
     "output_type": "execute_result"
    }
   ],
   "source": [
    "# build game probabilities data frame\n",
    "data = []\n",
    "for game in games:\n",
    "    team1, team2 = team_split(game)\n",
    "    team1_name, team2_name = team_name(team1), team_name(team2)\n",
    "    person1, person2 = team_assignment[team1_name], team_assignment[team2_name]\n",
    "    info = [team1_name, team2_name, team_probability(team1), team_probability(team2), person1, person2]\n",
    "    data.append(info)\n",
    "    \n",
    "cols = [\"team1\", \"team2\", \"prob1\", \"prob2\", \"person1\", \"person2\"]\n",
    "df = pd.DataFrame(data, columns=cols)\n",
    "df.to_csv(\"games.txt\", index=False)\n",
    "df[\"week\"] = weeks\n",
    "df[:5]"
   ]
  },
  {
   "cell_type": "code",
   "execution_count": 9,
   "metadata": {},
   "outputs": [
    {
     "data": {
      "text/plain": [
       "'\\ndf.loc[df.team1==\"Detroit\", \"prob1\"] = 1\\ndf.loc[df.team1==\"Detroit\", \"prob2\"] = 0\\ndf.loc[df.team2==\"Detroit\", \"prob1\"] = 0\\ndf.loc[df.team2==\"Detroit\", \"prob2\"] = 1\\ndf[(df.team1==\"Detroit\") | (df.team2==\"Detroit\")]\\n'"
      ]
     },
     "execution_count": 9,
     "metadata": {},
     "output_type": "execute_result"
    }
   ],
   "source": [
    "# test scenarios\n",
    "\"\"\"\n",
    "df.loc[df.team1==\"Detroit\", \"prob1\"] = 1\n",
    "df.loc[df.team1==\"Detroit\", \"prob2\"] = 0\n",
    "df.loc[df.team2==\"Detroit\", \"prob1\"] = 0\n",
    "df.loc[df.team2==\"Detroit\", \"prob2\"] = 1\n",
    "df[(df.team1==\"Detroit\") | (df.team2==\"Detroit\")]\n",
    "\"\"\""
   ]
  },
  {
   "cell_type": "code",
   "execution_count": 10,
   "metadata": {},
   "outputs": [
    {
     "data": {
      "text/html": [
       "<div>\n",
       "<style>\n",
       "    .dataframe thead tr:only-child th {\n",
       "        text-align: right;\n",
       "    }\n",
       "\n",
       "    .dataframe thead th {\n",
       "        text-align: left;\n",
       "    }\n",
       "\n",
       "    .dataframe tbody tr th {\n",
       "        vertical-align: top;\n",
       "    }\n",
       "</style>\n",
       "<table border=\"1\" class=\"dataframe\">\n",
       "  <thead>\n",
       "    <tr style=\"text-align: right;\">\n",
       "      <th></th>\n",
       "      <th>wins</th>\n",
       "      <th>max_possible</th>\n",
       "    </tr>\n",
       "    <tr>\n",
       "      <th>person</th>\n",
       "      <th></th>\n",
       "      <th></th>\n",
       "    </tr>\n",
       "  </thead>\n",
       "  <tbody>\n",
       "    <tr>\n",
       "      <th>Micah</th>\n",
       "      <td>18</td>\n",
       "      <td>36</td>\n",
       "    </tr>\n",
       "    <tr>\n",
       "      <th>Ryan</th>\n",
       "      <td>18</td>\n",
       "      <td>36</td>\n",
       "    </tr>\n",
       "    <tr>\n",
       "      <th>John</th>\n",
       "      <td>17</td>\n",
       "      <td>35</td>\n",
       "    </tr>\n",
       "    <tr>\n",
       "      <th>Colin</th>\n",
       "      <td>16</td>\n",
       "      <td>33</td>\n",
       "    </tr>\n",
       "    <tr>\n",
       "      <th>Aaron</th>\n",
       "      <td>15</td>\n",
       "      <td>33</td>\n",
       "    </tr>\n",
       "    <tr>\n",
       "      <th>Josh</th>\n",
       "      <td>14</td>\n",
       "      <td>33</td>\n",
       "    </tr>\n",
       "    <tr>\n",
       "      <th>Jon</th>\n",
       "      <td>14</td>\n",
       "      <td>32</td>\n",
       "    </tr>\n",
       "    <tr>\n",
       "      <th>Brad</th>\n",
       "      <td>14</td>\n",
       "      <td>31</td>\n",
       "    </tr>\n",
       "    <tr>\n",
       "      <th>Brian</th>\n",
       "      <td>13</td>\n",
       "      <td>31</td>\n",
       "    </tr>\n",
       "    <tr>\n",
       "      <th>Matt</th>\n",
       "      <td>13</td>\n",
       "      <td>31</td>\n",
       "    </tr>\n",
       "  </tbody>\n",
       "</table>\n",
       "</div>"
      ],
      "text/plain": [
       "        wins  max_possible\n",
       "person                    \n",
       "Micah     18            36\n",
       "Ryan      18            36\n",
       "John      17            35\n",
       "Colin     16            33\n",
       "Aaron     15            33\n",
       "Josh      14            33\n",
       "Jon       14            32\n",
       "Brad      14            31\n",
       "Brian     13            31\n",
       "Matt      13            31"
      ]
     },
     "execution_count": 10,
     "metadata": {},
     "output_type": "execute_result"
    }
   ],
   "source": [
    "# current and best possible score by person\n",
    "current = []\n",
    "for p in persons:\n",
    "    certain_win = possible_win = ((df.person1==p) & (df.prob1==1)) | ((df.person2==p) & (df.prob2==1))\n",
    "    possible_win = ((df.person1==p) & (df.prob1>0)) | ((df.person2==p) & (df.prob2>0))\n",
    "    current.append([p, certain_win.sum(), possible_win.sum()])\n",
    "    \n",
    "df_current = pd.DataFrame(current, columns=['person', 'wins', 'max_possible']).set_index(\"person\")\n",
    "df_formatted = df_current.sort_values(['wins','max_possible'], ascending=False)\n",
    "df_formatted.to_csv(\"scores.txt\", sep=\" \", header=False)\n",
    "df_formatted"
   ]
  },
  {
   "cell_type": "code",
   "execution_count": 11,
   "metadata": {},
   "outputs": [
    {
     "data": {
      "text/plain": [
       "(20000, 256)"
      ]
     },
     "execution_count": 11,
     "metadata": {},
     "output_type": "execute_result"
    }
   ],
   "source": [
    "# simulate seasons\n",
    "n_sims = 20000\n",
    "sims = []\n",
    "for index, g in df.iterrows():\n",
    "    a = [g['person1'], g['person2']]\n",
    "    p = [g['prob1'], g['prob2']]\n",
    "    if sum(p) != 0:\n",
    "        game_sims = np.random.choice(a, n_sims, p=p)\n",
    "    sims.append(game_sims)\n",
    "\n",
    "sims = np.array(sims).T\n",
    "sims.shape"
   ]
  },
  {
   "cell_type": "code",
   "execution_count": 12,
   "metadata": {},
   "outputs": [
    {
     "name": "stdout",
     "output_type": "stream",
     "text": [
      "(20000, 10)\n"
     ]
    },
    {
     "data": {
      "text/html": [
       "<div>\n",
       "<style>\n",
       "    .dataframe thead tr:only-child th {\n",
       "        text-align: right;\n",
       "    }\n",
       "\n",
       "    .dataframe thead th {\n",
       "        text-align: left;\n",
       "    }\n",
       "\n",
       "    .dataframe tbody tr th {\n",
       "        vertical-align: top;\n",
       "    }\n",
       "</style>\n",
       "<table border=\"1\" class=\"dataframe\">\n",
       "  <thead>\n",
       "    <tr style=\"text-align: right;\">\n",
       "      <th></th>\n",
       "      <th>Aaron</th>\n",
       "      <th>Brad</th>\n",
       "      <th>Brian</th>\n",
       "      <th>Colin</th>\n",
       "      <th>John</th>\n",
       "      <th>Jon</th>\n",
       "      <th>Josh</th>\n",
       "      <th>Matt</th>\n",
       "      <th>Micah</th>\n",
       "      <th>Ryan</th>\n",
       "    </tr>\n",
       "  </thead>\n",
       "  <tbody>\n",
       "    <tr>\n",
       "      <th>0</th>\n",
       "      <td>26</td>\n",
       "      <td>24</td>\n",
       "      <td>20</td>\n",
       "      <td>27</td>\n",
       "      <td>24</td>\n",
       "      <td>22</td>\n",
       "      <td>21</td>\n",
       "      <td>21</td>\n",
       "      <td>29</td>\n",
       "      <td>31</td>\n",
       "    </tr>\n",
       "    <tr>\n",
       "      <th>1</th>\n",
       "      <td>22</td>\n",
       "      <td>26</td>\n",
       "      <td>27</td>\n",
       "      <td>26</td>\n",
       "      <td>26</td>\n",
       "      <td>25</td>\n",
       "      <td>20</td>\n",
       "      <td>19</td>\n",
       "      <td>29</td>\n",
       "      <td>30</td>\n",
       "    </tr>\n",
       "    <tr>\n",
       "      <th>2</th>\n",
       "      <td>25</td>\n",
       "      <td>25</td>\n",
       "      <td>23</td>\n",
       "      <td>26</td>\n",
       "      <td>25</td>\n",
       "      <td>21</td>\n",
       "      <td>24</td>\n",
       "      <td>23</td>\n",
       "      <td>27</td>\n",
       "      <td>29</td>\n",
       "    </tr>\n",
       "    <tr>\n",
       "      <th>3</th>\n",
       "      <td>25</td>\n",
       "      <td>25</td>\n",
       "      <td>21</td>\n",
       "      <td>26</td>\n",
       "      <td>29</td>\n",
       "      <td>22</td>\n",
       "      <td>24</td>\n",
       "      <td>19</td>\n",
       "      <td>30</td>\n",
       "      <td>28</td>\n",
       "    </tr>\n",
       "    <tr>\n",
       "      <th>4</th>\n",
       "      <td>26</td>\n",
       "      <td>24</td>\n",
       "      <td>23</td>\n",
       "      <td>26</td>\n",
       "      <td>29</td>\n",
       "      <td>25</td>\n",
       "      <td>19</td>\n",
       "      <td>20</td>\n",
       "      <td>30</td>\n",
       "      <td>27</td>\n",
       "    </tr>\n",
       "  </tbody>\n",
       "</table>\n",
       "</div>"
      ],
      "text/plain": [
       "   Aaron  Brad  Brian  Colin  John  Jon  Josh  Matt  Micah  Ryan\n",
       "0     26    24     20     27    24   22    21    21     29    31\n",
       "1     22    26     27     26    26   25    20    19     29    30\n",
       "2     25    25     23     26    25   21    24    23     27    29\n",
       "3     25    25     21     26    29   22    24    19     30    28\n",
       "4     26    24     23     26    29   25    19    20     30    27"
      ]
     },
     "execution_count": 12,
     "metadata": {},
     "output_type": "execute_result"
    }
   ],
   "source": [
    "# aggregate seasons into scores for each person\n",
    "df_wins = pd.DataFrame([Counter(s) for s in sims])[persons]\n",
    "print(df_wins.shape)\n",
    "df_wins[:5]"
   ]
  },
  {
   "cell_type": "code",
   "execution_count": 13,
   "metadata": {},
   "outputs": [
    {
     "data": {
      "text/html": [
       "<div>\n",
       "<style>\n",
       "    .dataframe thead tr:only-child th {\n",
       "        text-align: right;\n",
       "    }\n",
       "\n",
       "    .dataframe thead th {\n",
       "        text-align: left;\n",
       "    }\n",
       "\n",
       "    .dataframe tbody tr th {\n",
       "        vertical-align: top;\n",
       "    }\n",
       "</style>\n",
       "<table border=\"1\" class=\"dataframe\">\n",
       "  <thead>\n",
       "    <tr style=\"text-align: right;\">\n",
       "      <th></th>\n",
       "      <th>Aaron</th>\n",
       "      <th>Brad</th>\n",
       "      <th>Brian</th>\n",
       "      <th>Colin</th>\n",
       "      <th>John</th>\n",
       "      <th>Jon</th>\n",
       "      <th>Josh</th>\n",
       "      <th>Matt</th>\n",
       "      <th>Micah</th>\n",
       "      <th>Ryan</th>\n",
       "    </tr>\n",
       "  </thead>\n",
       "  <tbody>\n",
       "    <tr>\n",
       "      <th>0</th>\n",
       "      <td>4</td>\n",
       "      <td>5</td>\n",
       "      <td>10</td>\n",
       "      <td>3</td>\n",
       "      <td>5</td>\n",
       "      <td>7</td>\n",
       "      <td>8</td>\n",
       "      <td>8</td>\n",
       "      <td>2</td>\n",
       "      <td>1</td>\n",
       "    </tr>\n",
       "    <tr>\n",
       "      <th>1</th>\n",
       "      <td>8</td>\n",
       "      <td>4</td>\n",
       "      <td>3</td>\n",
       "      <td>4</td>\n",
       "      <td>4</td>\n",
       "      <td>7</td>\n",
       "      <td>9</td>\n",
       "      <td>10</td>\n",
       "      <td>2</td>\n",
       "      <td>1</td>\n",
       "    </tr>\n",
       "    <tr>\n",
       "      <th>2</th>\n",
       "      <td>4</td>\n",
       "      <td>4</td>\n",
       "      <td>8</td>\n",
       "      <td>3</td>\n",
       "      <td>4</td>\n",
       "      <td>10</td>\n",
       "      <td>7</td>\n",
       "      <td>8</td>\n",
       "      <td>2</td>\n",
       "      <td>1</td>\n",
       "    </tr>\n",
       "    <tr>\n",
       "      <th>3</th>\n",
       "      <td>5</td>\n",
       "      <td>5</td>\n",
       "      <td>9</td>\n",
       "      <td>4</td>\n",
       "      <td>2</td>\n",
       "      <td>8</td>\n",
       "      <td>7</td>\n",
       "      <td>10</td>\n",
       "      <td>1</td>\n",
       "      <td>3</td>\n",
       "    </tr>\n",
       "    <tr>\n",
       "      <th>4</th>\n",
       "      <td>4</td>\n",
       "      <td>7</td>\n",
       "      <td>8</td>\n",
       "      <td>4</td>\n",
       "      <td>2</td>\n",
       "      <td>6</td>\n",
       "      <td>10</td>\n",
       "      <td>9</td>\n",
       "      <td>1</td>\n",
       "      <td>3</td>\n",
       "    </tr>\n",
       "  </tbody>\n",
       "</table>\n",
       "</div>"
      ],
      "text/plain": [
       "   Aaron  Brad  Brian  Colin  John  Jon  Josh  Matt  Micah  Ryan\n",
       "0      4     5     10      3     5    7     8     8      2     1\n",
       "1      8     4      3      4     4    7     9    10      2     1\n",
       "2      4     4      8      3     4   10     7     8      2     1\n",
       "3      5     5      9      4     2    8     7    10      1     3\n",
       "4      4     7      8      4     2    6    10     9      1     3"
      ]
     },
     "execution_count": 13,
     "metadata": {},
     "output_type": "execute_result"
    }
   ],
   "source": [
    "# use min method because ties take from following placements\n",
    "# mistakenly used dense at first\n",
    "df_rank = df_wins.rank(axis=1, method=\"min\", ascending=False).astype(int)\n",
    "df_rank[:5]"
   ]
  },
  {
   "cell_type": "code",
   "execution_count": 14,
   "metadata": {},
   "outputs": [
    {
     "data": {
      "text/html": [
       "<style  type=\"text/css\" >\n",
       "</style>  \n",
       "<table id=\"T_460daebe_eba2_11e8_b9c9_c82158b07408\" > \n",
       "<thead>    <tr> \n",
       "        <th class=\"blank level0\" ></th> \n",
       "        <th class=\"col_heading level0 col0\" >1</th> \n",
       "        <th class=\"col_heading level0 col1\" >2</th> \n",
       "        <th class=\"col_heading level0 col2\" >3</th> \n",
       "    </tr></thead> \n",
       "<tbody>    <tr> \n",
       "        <th id=\"T_460daebe_eba2_11e8_b9c9_c82158b07408level0_row0\" class=\"row_heading level0 row0\" >Micah</th> \n",
       "        <td id=\"T_460daebe_eba2_11e8_b9c9_c82158b07408row0_col0\" class=\"data row0 col0\" >55.4%</td> \n",
       "        <td id=\"T_460daebe_eba2_11e8_b9c9_c82158b07408row0_col1\" class=\"data row0 col1\" >26.6%</td> \n",
       "        <td id=\"T_460daebe_eba2_11e8_b9c9_c82158b07408row0_col2\" class=\"data row0 col2\" >10.5%</td> \n",
       "    </tr>    <tr> \n",
       "        <th id=\"T_460daebe_eba2_11e8_b9c9_c82158b07408level0_row1\" class=\"row_heading level0 row1\" >Ryan</th> \n",
       "        <td id=\"T_460daebe_eba2_11e8_b9c9_c82158b07408row1_col0\" class=\"data row1 col0\" >43.5%</td> \n",
       "        <td id=\"T_460daebe_eba2_11e8_b9c9_c82158b07408row1_col1\" class=\"data row1 col1\" >32.1%</td> \n",
       "        <td id=\"T_460daebe_eba2_11e8_b9c9_c82158b07408row1_col2\" class=\"data row1 col2\" >13.5%</td> \n",
       "    </tr>    <tr> \n",
       "        <th id=\"T_460daebe_eba2_11e8_b9c9_c82158b07408level0_row2\" class=\"row_heading level0 row2\" >John</th> \n",
       "        <td id=\"T_460daebe_eba2_11e8_b9c9_c82158b07408row2_col0\" class=\"data row2 col0\" >11.7%</td> \n",
       "        <td id=\"T_460daebe_eba2_11e8_b9c9_c82158b07408row2_col1\" class=\"data row2 col1\" >20.6%</td> \n",
       "        <td id=\"T_460daebe_eba2_11e8_b9c9_c82158b07408row2_col2\" class=\"data row2 col2\" >24.9%</td> \n",
       "    </tr>    <tr> \n",
       "        <th id=\"T_460daebe_eba2_11e8_b9c9_c82158b07408level0_row3\" class=\"row_heading level0 row3\" >Colin</th> \n",
       "        <td id=\"T_460daebe_eba2_11e8_b9c9_c82158b07408row3_col0\" class=\"data row3 col0\" >6.6%</td> \n",
       "        <td id=\"T_460daebe_eba2_11e8_b9c9_c82158b07408row3_col1\" class=\"data row3 col1\" >13.1%</td> \n",
       "        <td id=\"T_460daebe_eba2_11e8_b9c9_c82158b07408row3_col2\" class=\"data row3 col2\" >19.9%</td> \n",
       "    </tr>    <tr> \n",
       "        <th id=\"T_460daebe_eba2_11e8_b9c9_c82158b07408level0_row4\" class=\"row_heading level0 row4\" >Aaron</th> \n",
       "        <td id=\"T_460daebe_eba2_11e8_b9c9_c82158b07408row4_col0\" class=\"data row4 col0\" >2.7%</td> \n",
       "        <td id=\"T_460daebe_eba2_11e8_b9c9_c82158b07408row4_col1\" class=\"data row4 col1\" >8.5%</td> \n",
       "        <td id=\"T_460daebe_eba2_11e8_b9c9_c82158b07408row4_col2\" class=\"data row4 col2\" >15.2%</td> \n",
       "    </tr>    <tr> \n",
       "        <th id=\"T_460daebe_eba2_11e8_b9c9_c82158b07408level0_row5\" class=\"row_heading level0 row5\" >Brad</th> \n",
       "        <td id=\"T_460daebe_eba2_11e8_b9c9_c82158b07408row5_col0\" class=\"data row5 col0\" >1.5%</td> \n",
       "        <td id=\"T_460daebe_eba2_11e8_b9c9_c82158b07408row5_col1\" class=\"data row5 col1\" >5.1%</td> \n",
       "        <td id=\"T_460daebe_eba2_11e8_b9c9_c82158b07408row5_col2\" class=\"data row5 col2\" >10.3%</td> \n",
       "    </tr>    <tr> \n",
       "        <th id=\"T_460daebe_eba2_11e8_b9c9_c82158b07408level0_row6\" class=\"row_heading level0 row6\" >Jon</th> \n",
       "        <td id=\"T_460daebe_eba2_11e8_b9c9_c82158b07408row6_col0\" class=\"data row6 col0\" >0.9%</td> \n",
       "        <td id=\"T_460daebe_eba2_11e8_b9c9_c82158b07408row6_col1\" class=\"data row6 col1\" >3.6%</td> \n",
       "        <td id=\"T_460daebe_eba2_11e8_b9c9_c82158b07408row6_col2\" class=\"data row6 col2\" >7.3%</td> \n",
       "    </tr>    <tr> \n",
       "        <th id=\"T_460daebe_eba2_11e8_b9c9_c82158b07408level0_row7\" class=\"row_heading level0 row7\" >Brian</th> \n",
       "        <td id=\"T_460daebe_eba2_11e8_b9c9_c82158b07408row7_col0\" class=\"data row7 col0\" >0.4%</td> \n",
       "        <td id=\"T_460daebe_eba2_11e8_b9c9_c82158b07408row7_col1\" class=\"data row7 col1\" >1.4%</td> \n",
       "        <td id=\"T_460daebe_eba2_11e8_b9c9_c82158b07408row7_col2\" class=\"data row7 col2\" >3.3%</td> \n",
       "    </tr>    <tr> \n",
       "        <th id=\"T_460daebe_eba2_11e8_b9c9_c82158b07408level0_row8\" class=\"row_heading level0 row8\" >Josh</th> \n",
       "        <td id=\"T_460daebe_eba2_11e8_b9c9_c82158b07408row8_col0\" class=\"data row8 col0\" >0.2%</td> \n",
       "        <td id=\"T_460daebe_eba2_11e8_b9c9_c82158b07408row8_col1\" class=\"data row8 col1\" >1.4%</td> \n",
       "        <td id=\"T_460daebe_eba2_11e8_b9c9_c82158b07408row8_col2\" class=\"data row8 col2\" >3.3%</td> \n",
       "    </tr>    <tr> \n",
       "        <th id=\"T_460daebe_eba2_11e8_b9c9_c82158b07408level0_row9\" class=\"row_heading level0 row9\" >Matt</th> \n",
       "        <td id=\"T_460daebe_eba2_11e8_b9c9_c82158b07408row9_col0\" class=\"data row9 col0\" >0.0%</td> \n",
       "        <td id=\"T_460daebe_eba2_11e8_b9c9_c82158b07408row9_col1\" class=\"data row9 col1\" >0.1%</td> \n",
       "        <td id=\"T_460daebe_eba2_11e8_b9c9_c82158b07408row9_col2\" class=\"data row9 col2\" >0.3%</td> \n",
       "    </tr></tbody> \n",
       "</table> "
      ],
      "text/plain": [
       "<pandas.io.formats.style.Styler at 0x20e39c73860>"
      ]
     },
     "execution_count": 14,
     "metadata": {},
     "output_type": "execute_result"
    }
   ],
   "source": [
    "rank1 = (df_rank==1).sum(0) / n_sims\n",
    "rank2 = (df_rank==2).sum(0) / n_sims\n",
    "rank3 = (df_rank==3).sum(0) / n_sims\n",
    "\n",
    "probs = pd.concat([rank1, rank2, rank3], axis=1)\n",
    "probs.columns = [\"1\", \"2\", \"3\"]\n",
    "probs.sort_values(\"1\", ascending=False).style.format(\"{:.1%}\")"
   ]
  },
  {
   "cell_type": "code",
   "execution_count": 15,
   "metadata": {
    "collapsed": true
   },
   "outputs": [],
   "source": [
    "formatted = (probs*100).sort_values(\"1\", ascending=False).round(0).astype(int).astype(str)+'%'\n",
    "formatted.to_csv(\"probabilities.txt\", sep=\" \", header=False)"
   ]
  },
  {
   "cell_type": "code",
   "execution_count": 16,
   "metadata": {
    "collapsed": true
   },
   "outputs": [],
   "source": [
    "person_sort = probs.sort_values(\"1\", ascending=False).index"
   ]
  },
  {
   "cell_type": "code",
   "execution_count": 17,
   "metadata": {},
   "outputs": [
    {
     "data": {
      "text/plain": [
       "<matplotlib.axes._subplots.AxesSubplot at 0x20e39ca43c8>"
      ]
     },
     "execution_count": 17,
     "metadata": {},
     "output_type": "execute_result"
    },
    {
     "data": {
      "image/png": "[encoded data removed]",
      "text/plain": [
       "<matplotlib.figure.Figure at 0x20e39cab7f0>"
      ]
     },
     "metadata": {},
     "output_type": "display_data"
    }
   ],
   "source": [
    "# score distribution for individual players\n",
    "dist_df = []\n",
    "for person in persons:\n",
    "    dist_df.append(pd.DataFrame(df_wins.groupby(person).size() / n_sims))\n",
    "\n",
    "dist_df = pd.concat(dist_df, axis=1).fillna(0)\n",
    "dist_df.columns = persons\n",
    "#dist_df.style.format(\"{:.1%}\")\n",
    "sns.heatmap(dist_df[person_sort], annot=False)"
   ]
  },
  {
   "cell_type": "code",
   "execution_count": 18,
   "metadata": {
    "collapsed": true
   },
   "outputs": [],
   "source": [
    "# union team data to compute wins\n",
    "a = df[[\"person1\", \"team1\", \"prob1\", \"week\"]].rename(columns={\"person1\":\"person\", \"team1\":\"team\", \"prob1\":\"prob\"})\n",
    "b = df[[\"person2\", \"team2\", \"prob2\", \"week\"]].rename(columns={\"person2\":\"person\", \"team2\":\"team\", \"prob2\":\"prob\"})\n",
    "df_union = pd.concat([a, b], axis=0, ignore_index=True)\n",
    "df_union[\"win\"] = (df_union[\"prob\"] == 1).astype(int)\n",
    "totals = df_union.groupby([\"person\", \"team\"]).sum().reset_index()"
   ]
  },
  {
   "cell_type": "code",
   "execution_count": 19,
   "metadata": {},
   "outputs": [
    {
     "data": {
      "text/plain": [
       "959"
      ]
     },
     "execution_count": 19,
     "metadata": {},
     "output_type": "execute_result"
    }
   ],
   "source": [
    "# text for Notes app\n",
    "text = ''\n",
    "for person in persons:\n",
    "    team_scores = totals[totals.person==person]\n",
    "    score_text = \"\\n\".join(\" - \" + team_scores.team + \": \" + team_scores.win.astype(str))\n",
    "    person_total = \"TOTAL: \" + str(team_scores.win.sum())\n",
    "    person_max = \"MAX: \" + str(df_current.loc[person].max_possible)\n",
    "    placement_prob = \"1st 2nd 3rd: \" + \" \".join((probs.loc[person]*100).round(0).astype(int).astype(str) + \"%\")\n",
    "    parts = [person, score_text, person_total, person_max, placement_prob, \"\\n\"]\n",
    "    text += \"\\n\".join(parts)\n",
    "    \n",
    "open(\"report.txt\", \"w\").write(text)"
   ]
  },
  {
   "cell_type": "code",
   "execution_count": 22,
   "metadata": {},
   "outputs": [
    {
     "data": {
      "text/html": [
       "<div>\n",
       "<style>\n",
       "    .dataframe thead tr:only-child th {\n",
       "        text-align: right;\n",
       "    }\n",
       "\n",
       "    .dataframe thead th {\n",
       "        text-align: left;\n",
       "    }\n",
       "\n",
       "    .dataframe tbody tr th {\n",
       "        vertical-align: top;\n",
       "    }\n",
       "</style>\n",
       "<table border=\"1\" class=\"dataframe\">\n",
       "  <thead>\n",
       "    <tr style=\"text-align: right;\">\n",
       "      <th></th>\n",
       "      <th>person</th>\n",
       "      <th>team</th>\n",
       "      <th>prob</th>\n",
       "      <th>week</th>\n",
       "      <th>win</th>\n",
       "    </tr>\n",
       "  </thead>\n",
       "  <tbody>\n",
       "    <tr>\n",
       "      <th>11</th>\n",
       "      <td>Josh</td>\n",
       "      <td>Minnesota</td>\n",
       "      <td>0.46</td>\n",
       "      <td>11</td>\n",
       "      <td>0</td>\n",
       "    </tr>\n",
       "    <tr>\n",
       "      <th>12</th>\n",
       "      <td>Ryan</td>\n",
       "      <td>Kansas City</td>\n",
       "      <td>0.46</td>\n",
       "      <td>11</td>\n",
       "      <td>0</td>\n",
       "    </tr>\n",
       "    <tr>\n",
       "      <th>267</th>\n",
       "      <td>Aaron</td>\n",
       "      <td>Chicago</td>\n",
       "      <td>0.54</td>\n",
       "      <td>11</td>\n",
       "      <td>0</td>\n",
       "    </tr>\n",
       "    <tr>\n",
       "      <th>268</th>\n",
       "      <td>John</td>\n",
       "      <td>L.A. Rams</td>\n",
       "      <td>0.54</td>\n",
       "      <td>11</td>\n",
       "      <td>0</td>\n",
       "    </tr>\n",
       "  </tbody>\n",
       "</table>\n",
       "</div>"
      ],
      "text/plain": [
       "    person         team  prob  week  win\n",
       "11    Josh    Minnesota  0.46    11    0\n",
       "12    Ryan  Kansas City  0.46    11    0\n",
       "267  Aaron      Chicago  0.54    11    0\n",
       "268   John    L.A. Rams  0.54    11    0"
      ]
     },
     "execution_count": 22,
     "metadata": {},
     "output_type": "execute_result"
    }
   ],
   "source": [
    "# games left for given week\n",
    "df_union[(df_union.prob!=0) & (df_union.prob!=1) & (df_union.week==11)]\n",
    "#df_union[(df_union.week==10)]"
   ]
  },
  {
   "cell_type": "code",
   "execution_count": 23,
   "metadata": {},
   "outputs": [
    {
     "data": {
      "text/html": [
       "<div>\n",
       "<style>\n",
       "    .dataframe thead tr:only-child th {\n",
       "        text-align: right;\n",
       "    }\n",
       "\n",
       "    .dataframe thead th {\n",
       "        text-align: left;\n",
       "    }\n",
       "\n",
       "    .dataframe tbody tr th {\n",
       "        vertical-align: top;\n",
       "    }\n",
       "</style>\n",
       "<table border=\"1\" class=\"dataframe\">\n",
       "  <thead>\n",
       "    <tr style=\"text-align: right;\">\n",
       "      <th>person</th>\n",
       "      <th>Aaron</th>\n",
       "      <th>Brad</th>\n",
       "      <th>Brian</th>\n",
       "      <th>Colin</th>\n",
       "      <th>John</th>\n",
       "      <th>Jon</th>\n",
       "      <th>Josh</th>\n",
       "      <th>Matt</th>\n",
       "      <th>Micah</th>\n",
       "      <th>Ryan</th>\n",
       "    </tr>\n",
       "    <tr>\n",
       "      <th>week</th>\n",
       "      <th></th>\n",
       "      <th></th>\n",
       "      <th></th>\n",
       "      <th></th>\n",
       "      <th></th>\n",
       "      <th></th>\n",
       "      <th></th>\n",
       "      <th></th>\n",
       "      <th></th>\n",
       "      <th></th>\n",
       "    </tr>\n",
       "  </thead>\n",
       "  <tbody>\n",
       "    <tr>\n",
       "      <th>1</th>\n",
       "      <td>1.0</td>\n",
       "      <td>2.0</td>\n",
       "      <td>2.0</td>\n",
       "      <td>0.0</td>\n",
       "      <td>2.0</td>\n",
       "      <td>2.0</td>\n",
       "      <td>3.0</td>\n",
       "      <td>0.0</td>\n",
       "      <td>1.0</td>\n",
       "      <td>2.0</td>\n",
       "    </tr>\n",
       "    <tr>\n",
       "      <th>2</th>\n",
       "      <td>3.0</td>\n",
       "      <td>4.0</td>\n",
       "      <td>4.0</td>\n",
       "      <td>1.0</td>\n",
       "      <td>3.0</td>\n",
       "      <td>3.0</td>\n",
       "      <td>3.0</td>\n",
       "      <td>2.0</td>\n",
       "      <td>4.0</td>\n",
       "      <td>3.0</td>\n",
       "    </tr>\n",
       "    <tr>\n",
       "      <th>3</th>\n",
       "      <td>4.0</td>\n",
       "      <td>6.0</td>\n",
       "      <td>5.0</td>\n",
       "      <td>2.0</td>\n",
       "      <td>6.0</td>\n",
       "      <td>4.0</td>\n",
       "      <td>4.0</td>\n",
       "      <td>2.0</td>\n",
       "      <td>6.0</td>\n",
       "      <td>6.0</td>\n",
       "    </tr>\n",
       "    <tr>\n",
       "      <th>4</th>\n",
       "      <td>6.0</td>\n",
       "      <td>7.0</td>\n",
       "      <td>6.0</td>\n",
       "      <td>3.0</td>\n",
       "      <td>8.0</td>\n",
       "      <td>7.0</td>\n",
       "      <td>4.0</td>\n",
       "      <td>4.0</td>\n",
       "      <td>8.0</td>\n",
       "      <td>7.0</td>\n",
       "    </tr>\n",
       "    <tr>\n",
       "      <th>5</th>\n",
       "      <td>7.0</td>\n",
       "      <td>7.0</td>\n",
       "      <td>7.0</td>\n",
       "      <td>5.0</td>\n",
       "      <td>9.0</td>\n",
       "      <td>8.0</td>\n",
       "      <td>6.0</td>\n",
       "      <td>5.0</td>\n",
       "      <td>9.0</td>\n",
       "      <td>10.0</td>\n",
       "    </tr>\n",
       "    <tr>\n",
       "      <th>6</th>\n",
       "      <td>8.0</td>\n",
       "      <td>10.0</td>\n",
       "      <td>8.0</td>\n",
       "      <td>6.0</td>\n",
       "      <td>11.0</td>\n",
       "      <td>10.0</td>\n",
       "      <td>9.0</td>\n",
       "      <td>7.0</td>\n",
       "      <td>9.0</td>\n",
       "      <td>10.0</td>\n",
       "    </tr>\n",
       "    <tr>\n",
       "      <th>7</th>\n",
       "      <td>9.0</td>\n",
       "      <td>10.0</td>\n",
       "      <td>9.0</td>\n",
       "      <td>9.0</td>\n",
       "      <td>12.0</td>\n",
       "      <td>10.0</td>\n",
       "      <td>11.0</td>\n",
       "      <td>9.0</td>\n",
       "      <td>11.0</td>\n",
       "      <td>12.0</td>\n",
       "    </tr>\n",
       "    <tr>\n",
       "      <th>8</th>\n",
       "      <td>11.0</td>\n",
       "      <td>11.0</td>\n",
       "      <td>10.0</td>\n",
       "      <td>11.0</td>\n",
       "      <td>13.0</td>\n",
       "      <td>12.0</td>\n",
       "      <td>12.0</td>\n",
       "      <td>9.0</td>\n",
       "      <td>12.0</td>\n",
       "      <td>14.0</td>\n",
       "    </tr>\n",
       "    <tr>\n",
       "      <th>9</th>\n",
       "      <td>14.0</td>\n",
       "      <td>12.0</td>\n",
       "      <td>11.0</td>\n",
       "      <td>12.0</td>\n",
       "      <td>13.0</td>\n",
       "      <td>12.0</td>\n",
       "      <td>13.0</td>\n",
       "      <td>11.0</td>\n",
       "      <td>14.0</td>\n",
       "      <td>16.0</td>\n",
       "    </tr>\n",
       "    <tr>\n",
       "      <th>10</th>\n",
       "      <td>15.0</td>\n",
       "      <td>13.0</td>\n",
       "      <td>12.0</td>\n",
       "      <td>13.0</td>\n",
       "      <td>15.0</td>\n",
       "      <td>13.0</td>\n",
       "      <td>14.0</td>\n",
       "      <td>12.0</td>\n",
       "      <td>16.0</td>\n",
       "      <td>18.0</td>\n",
       "    </tr>\n",
       "    <tr>\n",
       "      <th>11</th>\n",
       "      <td>NaN</td>\n",
       "      <td>14.0</td>\n",
       "      <td>13.0</td>\n",
       "      <td>16.0</td>\n",
       "      <td>17.0</td>\n",
       "      <td>14.0</td>\n",
       "      <td>14.0</td>\n",
       "      <td>13.0</td>\n",
       "      <td>18.0</td>\n",
       "      <td>18.0</td>\n",
       "    </tr>\n",
       "  </tbody>\n",
       "</table>\n",
       "</div>"
      ],
      "text/plain": [
       "person  Aaron  Brad  Brian  Colin  John   Jon  Josh  Matt  Micah  Ryan\n",
       "week                                                                  \n",
       "1         1.0   2.0    2.0    0.0   2.0   2.0   3.0   0.0    1.0   2.0\n",
       "2         3.0   4.0    4.0    1.0   3.0   3.0   3.0   2.0    4.0   3.0\n",
       "3         4.0   6.0    5.0    2.0   6.0   4.0   4.0   2.0    6.0   6.0\n",
       "4         6.0   7.0    6.0    3.0   8.0   7.0   4.0   4.0    8.0   7.0\n",
       "5         7.0   7.0    7.0    5.0   9.0   8.0   6.0   5.0    9.0  10.0\n",
       "6         8.0  10.0    8.0    6.0  11.0  10.0   9.0   7.0    9.0  10.0\n",
       "7         9.0  10.0    9.0    9.0  12.0  10.0  11.0   9.0   11.0  12.0\n",
       "8        11.0  11.0   10.0   11.0  13.0  12.0  12.0   9.0   12.0  14.0\n",
       "9        14.0  12.0   11.0   12.0  13.0  12.0  13.0  11.0   14.0  16.0\n",
       "10       15.0  13.0   12.0   13.0  15.0  13.0  14.0  12.0   16.0  18.0\n",
       "11        NaN  14.0   13.0   16.0  17.0  14.0  14.0  13.0   18.0  18.0"
      ]
     },
     "execution_count": 23,
     "metadata": {},
     "output_type": "execute_result"
    }
   ],
   "source": [
    "# scores by week\n",
    "df_totals = df_union[(df_union.prob==0) | (df_union.prob==1)].groupby(['week', 'person']).sum().reset_index()\n",
    "df_cumul = df_totals.pivot(index='week', columns='person', values='prob')[persons].cumsum()\n",
    "df_cumul.round(1)"
   ]
  },
  {
   "cell_type": "code",
   "execution_count": 24,
   "metadata": {},
   "outputs": [
    {
     "data": {
      "text/plain": [
       "<matplotlib.axes._subplots.AxesSubplot at 0x20e461fc0f0>"
      ]
     },
     "execution_count": 24,
     "metadata": {},
     "output_type": "execute_result"
    },
    {
     "data": {
      "image/png": "[encoded data removed]",
      "text/plain": [
       "<matplotlib.figure.Figure at 0x20e39c73cc0>"
      ]
     },
     "metadata": {},
     "output_type": "display_data"
    }
   ],
   "source": [
    "df_cumul.plot(figsize=(10,8))"
   ]
  },
  {
   "cell_type": "code",
   "execution_count": null,
   "metadata": {
    "collapsed": true
   },
   "outputs": [],
   "source": []
  }
 ],
 "metadata": {
  "kernelspec": {
   "display_name": "Python 3",
   "language": "python",
   "name": "python3"
  },
  "language_info": {
   "codemirror_mode": {
    "name": "ipython",
    "version": 3
   },
   "file_extension": ".py",
   "mimetype": "text/x-python",
   "name": "python",
   "nbconvert_exporter": "python",
   "pygments_lexer": "ipython3",
   "version": "3.6.3"
  }
 },
 "nbformat": 4,
 "nbformat_minor": 2
}
