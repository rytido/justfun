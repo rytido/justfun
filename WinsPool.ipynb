{
 "cells": [
  {
   "cell_type": "code",
   "execution_count": 1,
   "metadata": {},
   "outputs": [],
   "source": [
    "import requests\n",
    "import numpy as np\n",
    "import pandas as pd\n",
    "from collections import Counter"
   ]
  },
  {
   "cell_type": "code",
   "execution_count": 42,
   "metadata": {
    "collapsed": true
   },
   "outputs": [],
   "source": [
    "draft_order = ['Aaron', 'John', 'Brian', 'Josh', 'Brad', 'Micah', 'Matt', 'Jon', 'Ryan', 'Colin', \n",
    "               'Matt', 'Colin', 'Brian', 'Ryan', 'Brad', 'John', 'Jon', 'Josh', 'Micah', 'Aaron', \n",
    "               'Jon', 'Micah', 'Ryan', 'Colin', 'Josh', 'Aaron', 'Brad', 'Matt', 'John', 'Brian','','']"
   ]
  },
  {
   "cell_type": "code",
   "execution_count": 43,
   "metadata": {},
   "outputs": [
    {
     "data": {
      "text/plain": [
       "{'Kansas City': 'Aaron',\n",
       " 'Miami': 'John',\n",
       " 'L.A. Rams': 'Brian',\n",
       " 'Washington': 'Josh',\n",
       " 'Baltimore': 'Brad',\n",
       " 'Tennessee': 'Micah',\n",
       " 'Carolina': 'Matt',\n",
       " 'Chicago': 'Jon',\n",
       " 'Cincinnati': 'Ryan',\n",
       " 'Tampa Bay': 'Colin',\n",
       " 'Denver': 'Matt',\n",
       " 'Philadelphia': 'Colin',\n",
       " 'New Orleans': 'Brian',\n",
       " 'Jacksonville': 'Ryan',\n",
       " 'New England': 'Brad',\n",
       " 'San Francisco': 'John',\n",
       " 'Pittsburgh': 'Jon',\n",
       " 'N.Y. Giants': 'Josh',\n",
       " 'Seattle': 'Micah',\n",
       " 'N.Y. Jets': 'Aaron',\n",
       " 'L.A. Chargers': 'Jon',\n",
       " 'Minnesota': 'Micah',\n",
       " 'Atlanta': 'Ryan',\n",
       " 'Indianapolis': 'Colin',\n",
       " 'Green Bay': 'Josh',\n",
       " 'Detroit': 'Aaron',\n",
       " 'Dallas': 'Brad',\n",
       " 'Cleveland': 'Matt',\n",
       " 'Buffalo': 'John',\n",
       " 'Oakland': 'Brian',\n",
       " 'Houston': '',\n",
       " 'Arizona': ''}"
      ]
     },
     "execution_count": 43,
     "metadata": {},
     "output_type": "execute_result"
    }
   ],
   "source": [
    "# for determining optimal assigments given current scores\n",
    "# must run code below before this\n",
    "team_ranking = df_union.groupby([\"team\"])[[\"win\"]].sum().sort_values('win', ascending=False)\n",
    "team_assignment = {t:p for t,p in zip(team_ranking.index, draft_order)}\n",
    "team_assignment"
   ]
  },
  {
   "cell_type": "code",
   "execution_count": 2,
   "metadata": {},
   "outputs": [],
   "source": [
    "# got team names from set(df.team1).union(df.team2)\n",
    "# Arizona and Cleveland unassigned\n",
    "team_assignment = {\n",
    " 'Arizona': '',\n",
    " 'Atlanta': 'Matt',\n",
    " 'Baltimore': 'John',\n",
    " 'Buffalo': 'Ryan',\n",
    " 'Carolina': 'Ryan',\n",
    " 'Chicago': 'Aaron',\n",
    " 'Cincinnati': 'Jon',\n",
    " 'Cleveland': '',\n",
    " 'Dallas': 'Brad',\n",
    " 'Denver': 'Micah',\n",
    " 'Detroit': 'Colin',\n",
    " 'Green Bay': 'Jon',\n",
    " 'Houston': 'Colin',\n",
    " 'Indianapolis': 'Colin',\n",
    " 'Jacksonville': 'Brian',\n",
    " 'Kansas City': 'Ryan',\n",
    " 'L.A. Chargers': 'Matt',\n",
    " 'L.A. Rams': 'John',\n",
    " 'Miami': 'Brad',\n",
    " 'Minnesota': 'Josh',\n",
    " 'N.Y. Giants': 'John',\n",
    " 'N.Y. Jets': 'Josh',\n",
    " 'New England': 'Aaron',\n",
    " 'New Orleans': 'Micah',\n",
    " 'Oakland': 'Matt',\n",
    " 'Philadelphia': 'Brad',\n",
    " 'Pittsburgh': 'Brian',\n",
    " 'San Francisco': 'Aaron',\n",
    " 'Seattle': 'Jon',\n",
    " 'Tampa Bay': 'Brian',\n",
    " 'Tennessee': 'Micah',\n",
    " 'Washington': 'Josh'}"
   ]
  },
  {
   "cell_type": "code",
   "execution_count": 3,
   "metadata": {},
   "outputs": [
    {
     "data": {
      "text/plain": [
       "['Aaron',\n",
       " 'Brad',\n",
       " 'Brian',\n",
       " 'Colin',\n",
       " 'John',\n",
       " 'Jon',\n",
       " 'Josh',\n",
       " 'Matt',\n",
       " 'Micah',\n",
       " 'Ryan']"
      ]
     },
     "execution_count": 3,
     "metadata": {},
     "output_type": "execute_result"
    }
   ],
   "source": [
    "persons = sorted(list(set(p for p in team_assignment.values() if p!='')))\n",
    "persons"
   ]
  },
  {
   "cell_type": "code",
   "execution_count": 35,
   "metadata": {},
   "outputs": [],
   "source": [
    "def team_split(game):\n",
    "    \"\"\"split team text\"\"\"\n",
    "    return game.split('<td class=\"td text team')[1:]\n",
    "\n",
    "def team_name(team_raw):\n",
    "    \"\"\"extract team name\"\"\"\n",
    "    part = team_raw.split('\">')[1]\n",
    "    return part.split('</td>')[0].strip()\n",
    "\n",
    "def team_probability(team_raw):\n",
    "    \"\"\"extract win probability for team\n",
    "    apparently they put 'loser' and 'winner' in the class name when the game is complete\"\"\"\n",
    "    if 'loser\">' in team_raw:\n",
    "        return 0\n",
    "    elif 'winner\">' in team_raw:\n",
    "        return 1\n",
    "    else: \n",
    "        part = team_raw.split('%</td><td class=\"td number score\">')[0]\n",
    "        return float(part.split('>')[-1])/100\n",
    "    \n",
    "def game_dates(games):\n",
    "    \"\"\"get game dates\"\"\"\n",
    "    date_class = '<div class=\"day\"><h4 class=\"h4\">'\n",
    "    dates = []\n",
    "    for g in games:\n",
    "        if date_class in g:\n",
    "            game_date = g.split(date_class)[1].split('</h4>')[0]\n",
    "        dates.append(game_date)\n",
    "    return dates"
   ]
  },
  {
   "cell_type": "code",
   "execution_count": 5,
   "metadata": {},
   "outputs": [
    {
     "data": {
      "text/plain": [
       "256"
      ]
     },
     "execution_count": 5,
     "metadata": {},
     "output_type": "execute_result"
    }
   ],
   "source": [
    "# get full html of page\n",
    "r = requests.get(\"https://projects.fivethirtyeight.com/2018-nfl-predictions/games/\")\n",
    "\n",
    "raw = r.text\n",
    "\n",
    "# html for each game table\n",
    "# first element is not relevant\n",
    "games = raw.split('<table class=\"game-body\">')[1:]\n",
    "len(games)"
   ]
  },
  {
   "cell_type": "code",
   "execution_count": 6,
   "metadata": {},
   "outputs": [
    {
     "name": "stdout",
     "output_type": "stream",
     "text": [
      "Green Bay Seattle\n",
      "0.33 0.67\n"
     ]
    }
   ],
   "source": [
    "# function example usage\n",
    "game = games[100]\n",
    "team1, team2 = team_split(game)\n",
    "print(team_name(team1), team_name(team2))\n",
    "print(team_probability(team1), team_probability(team2))"
   ]
  },
  {
   "cell_type": "code",
   "execution_count": 36,
   "metadata": {},
   "outputs": [],
   "source": [
    "dates = game_dates(games)"
   ]
  },
  {
   "cell_type": "code",
   "execution_count": 7,
   "metadata": {},
   "outputs": [
    {
     "data": {
      "text/html": [
       "<div>\n",
       "<style scoped>\n",
       "    .dataframe tbody tr th:only-of-type {\n",
       "        vertical-align: middle;\n",
       "    }\n",
       "\n",
       "    .dataframe tbody tr th {\n",
       "        vertical-align: top;\n",
       "    }\n",
       "\n",
       "    .dataframe thead th {\n",
       "        text-align: right;\n",
       "    }\n",
       "</style>\n",
       "<table border=\"1\" class=\"dataframe\">\n",
       "  <thead>\n",
       "    <tr style=\"text-align: right;\">\n",
       "      <th></th>\n",
       "      <th>team1</th>\n",
       "      <th>team2</th>\n",
       "      <th>prob1</th>\n",
       "      <th>prob2</th>\n",
       "      <th>person1</th>\n",
       "      <th>person2</th>\n",
       "    </tr>\n",
       "  </thead>\n",
       "  <tbody>\n",
       "    <tr>\n",
       "      <th>0</th>\n",
       "      <td>Minnesota</td>\n",
       "      <td>L.A. Rams</td>\n",
       "      <td>0.0</td>\n",
       "      <td>1.0</td>\n",
       "      <td>Josh</td>\n",
       "      <td>John</td>\n",
       "    </tr>\n",
       "    <tr>\n",
       "      <th>1</th>\n",
       "      <td>Buffalo</td>\n",
       "      <td>Green Bay</td>\n",
       "      <td>0.0</td>\n",
       "      <td>1.0</td>\n",
       "      <td>Ryan</td>\n",
       "      <td>Jon</td>\n",
       "    </tr>\n",
       "    <tr>\n",
       "      <th>2</th>\n",
       "      <td>Cincinnati</td>\n",
       "      <td>Atlanta</td>\n",
       "      <td>1.0</td>\n",
       "      <td>0.0</td>\n",
       "      <td>Jon</td>\n",
       "      <td>Matt</td>\n",
       "    </tr>\n",
       "    <tr>\n",
       "      <th>3</th>\n",
       "      <td>Detroit</td>\n",
       "      <td>Dallas</td>\n",
       "      <td>0.0</td>\n",
       "      <td>1.0</td>\n",
       "      <td>Colin</td>\n",
       "      <td>Brad</td>\n",
       "    </tr>\n",
       "    <tr>\n",
       "      <th>4</th>\n",
       "      <td>Houston</td>\n",
       "      <td>Indianapolis</td>\n",
       "      <td>1.0</td>\n",
       "      <td>0.0</td>\n",
       "      <td>Colin</td>\n",
       "      <td>Colin</td>\n",
       "    </tr>\n",
       "  </tbody>\n",
       "</table>\n",
       "</div>"
      ],
      "text/plain": [
       "        team1         team2  prob1  prob2 person1 person2\n",
       "0   Minnesota     L.A. Rams    0.0    1.0    Josh    John\n",
       "1     Buffalo     Green Bay    0.0    1.0    Ryan     Jon\n",
       "2  Cincinnati       Atlanta    1.0    0.0     Jon    Matt\n",
       "3     Detroit        Dallas    0.0    1.0   Colin    Brad\n",
       "4     Houston  Indianapolis    1.0    0.0   Colin   Colin"
      ]
     },
     "execution_count": 7,
     "metadata": {},
     "output_type": "execute_result"
    }
   ],
   "source": [
    "# build game probabilities data frame\n",
    "data = []\n",
    "for game in games:\n",
    "    team1, team2 = team_split(game)\n",
    "    team1_name, team2_name = team_name(team1), team_name(team2)\n",
    "    person1, person2 = team_assignment[team1_name], team_assignment[team2_name]\n",
    "    info = [team1_name, team2_name, team_probability(team1), team_probability(team2), person1, person2]\n",
    "    data.append(info)\n",
    "    \n",
    "cols = [\"team1\", \"team2\", \"prob1\", \"prob2\", \"person1\", \"person2\"]\n",
    "df = pd.DataFrame(data, columns=cols)\n",
    "df.to_csv(\"games.txt\", index=False)\n",
    "df[:5]"
   ]
  },
  {
   "cell_type": "code",
   "execution_count": 8,
   "metadata": {},
   "outputs": [
    {
     "data": {
      "text/plain": [
       "'\\ndf.loc[df.team1==\"Detroit\", \"prob1\"] = 1\\ndf.loc[df.team1==\"Detroit\", \"prob2\"] = 0\\ndf.loc[df.team2==\"Detroit\", \"prob1\"] = 0\\ndf.loc[df.team2==\"Detroit\", \"prob2\"] = 1\\ndf[(df.team1==\"Detroit\") | (df.team2==\"Detroit\")]\\n'"
      ]
     },
     "execution_count": 8,
     "metadata": {},
     "output_type": "execute_result"
    }
   ],
   "source": [
    "# test scenarios\n",
    "\"\"\"\n",
    "df.loc[df.team1==\"Detroit\", \"prob1\"] = 1\n",
    "df.loc[df.team1==\"Detroit\", \"prob2\"] = 0\n",
    "df.loc[df.team2==\"Detroit\", \"prob1\"] = 0\n",
    "df.loc[df.team2==\"Detroit\", \"prob2\"] = 1\n",
    "df[(df.team1==\"Detroit\") | (df.team2==\"Detroit\")]\n",
    "\"\"\""
   ]
  },
  {
   "cell_type": "code",
   "execution_count": 9,
   "metadata": {},
   "outputs": [
    {
     "data": {
      "text/html": [
       "<div>\n",
       "<style scoped>\n",
       "    .dataframe tbody tr th:only-of-type {\n",
       "        vertical-align: middle;\n",
       "    }\n",
       "\n",
       "    .dataframe tbody tr th {\n",
       "        vertical-align: top;\n",
       "    }\n",
       "\n",
       "    .dataframe thead th {\n",
       "        text-align: right;\n",
       "    }\n",
       "</style>\n",
       "<table border=\"1\" class=\"dataframe\">\n",
       "  <thead>\n",
       "    <tr style=\"text-align: right;\">\n",
       "      <th></th>\n",
       "      <th>wins</th>\n",
       "      <th>max_possible</th>\n",
       "    </tr>\n",
       "    <tr>\n",
       "      <th>person</th>\n",
       "      <th></th>\n",
       "      <th></th>\n",
       "    </tr>\n",
       "  </thead>\n",
       "  <tbody>\n",
       "    <tr>\n",
       "      <th>Micah</th>\n",
       "      <td>8</td>\n",
       "      <td>45</td>\n",
       "    </tr>\n",
       "    <tr>\n",
       "      <th>John</th>\n",
       "      <td>7</td>\n",
       "      <td>44</td>\n",
       "    </tr>\n",
       "    <tr>\n",
       "      <th>Jon</th>\n",
       "      <td>7</td>\n",
       "      <td>42</td>\n",
       "    </tr>\n",
       "    <tr>\n",
       "      <th>Brad</th>\n",
       "      <td>7</td>\n",
       "      <td>41</td>\n",
       "    </tr>\n",
       "    <tr>\n",
       "      <th>Ryan</th>\n",
       "      <td>6</td>\n",
       "      <td>44</td>\n",
       "    </tr>\n",
       "    <tr>\n",
       "      <th>Brian</th>\n",
       "      <td>6</td>\n",
       "      <td>42</td>\n",
       "    </tr>\n",
       "    <tr>\n",
       "      <th>Aaron</th>\n",
       "      <td>6</td>\n",
       "      <td>40</td>\n",
       "    </tr>\n",
       "    <tr>\n",
       "      <th>Josh</th>\n",
       "      <td>4</td>\n",
       "      <td>40</td>\n",
       "    </tr>\n",
       "    <tr>\n",
       "      <th>Matt</th>\n",
       "      <td>4</td>\n",
       "      <td>38</td>\n",
       "    </tr>\n",
       "    <tr>\n",
       "      <th>Colin</th>\n",
       "      <td>3</td>\n",
       "      <td>38</td>\n",
       "    </tr>\n",
       "  </tbody>\n",
       "</table>\n",
       "</div>"
      ],
      "text/plain": [
       "        wins  max_possible\n",
       "person                    \n",
       "Micah      8            45\n",
       "John       7            44\n",
       "Jon        7            42\n",
       "Brad       7            41\n",
       "Ryan       6            44\n",
       "Brian      6            42\n",
       "Aaron      6            40\n",
       "Josh       4            40\n",
       "Matt       4            38\n",
       "Colin      3            38"
      ]
     },
     "execution_count": 9,
     "metadata": {},
     "output_type": "execute_result"
    }
   ],
   "source": [
    "# current and best possible score by person\n",
    "current = []\n",
    "for p in persons:\n",
    "    certain_win = possible_win = ((df.person1==p) & (df.prob1==1)) | ((df.person2==p) & (df.prob2==1))\n",
    "    possible_win = ((df.person1==p) & (df.prob1>0)) | ((df.person2==p) & (df.prob2>0))\n",
    "    current.append([p, certain_win.sum(), possible_win.sum()])\n",
    "    \n",
    "df_current = pd.DataFrame(current, columns=['person', 'wins', 'max_possible']).set_index(\"person\")\n",
    "df_formatted = df_current.sort_values(['wins','max_possible'], ascending=False)\n",
    "df_formatted.to_csv(\"scores.txt\", sep=\" \", header=False)\n",
    "df_formatted"
   ]
  },
  {
   "cell_type": "code",
   "execution_count": 10,
   "metadata": {},
   "outputs": [
    {
     "data": {
      "text/plain": [
       "(20000, 256)"
      ]
     },
     "execution_count": 10,
     "metadata": {},
     "output_type": "execute_result"
    }
   ],
   "source": [
    "# simulate seasons\n",
    "n_sims = 20000\n",
    "sims = []\n",
    "for index, g in df.iterrows():\n",
    "    a = [g['person1'], g['person2']]\n",
    "    p = [g['prob1'], g['prob2']]\n",
    "    if sum(p) != 0:\n",
    "        game_sims = np.random.choice(a, n_sims, p=p)\n",
    "    sims.append(game_sims)\n",
    "\n",
    "sims = np.array(sims).T\n",
    "sims.shape"
   ]
  },
  {
   "cell_type": "code",
   "execution_count": 11,
   "metadata": {},
   "outputs": [
    {
     "name": "stdout",
     "output_type": "stream",
     "text": [
      "(20000, 10)\n"
     ]
    },
    {
     "data": {
      "text/html": [
       "<div>\n",
       "<style scoped>\n",
       "    .dataframe tbody tr th:only-of-type {\n",
       "        vertical-align: middle;\n",
       "    }\n",
       "\n",
       "    .dataframe tbody tr th {\n",
       "        vertical-align: top;\n",
       "    }\n",
       "\n",
       "    .dataframe thead th {\n",
       "        text-align: right;\n",
       "    }\n",
       "</style>\n",
       "<table border=\"1\" class=\"dataframe\">\n",
       "  <thead>\n",
       "    <tr style=\"text-align: right;\">\n",
       "      <th></th>\n",
       "      <th>Aaron</th>\n",
       "      <th>Brad</th>\n",
       "      <th>Brian</th>\n",
       "      <th>Colin</th>\n",
       "      <th>John</th>\n",
       "      <th>Jon</th>\n",
       "      <th>Josh</th>\n",
       "      <th>Matt</th>\n",
       "      <th>Micah</th>\n",
       "      <th>Ryan</th>\n",
       "    </tr>\n",
       "  </thead>\n",
       "  <tbody>\n",
       "    <tr>\n",
       "      <th>0</th>\n",
       "      <td>24</td>\n",
       "      <td>29</td>\n",
       "      <td>27</td>\n",
       "      <td>16</td>\n",
       "      <td>24</td>\n",
       "      <td>22</td>\n",
       "      <td>26</td>\n",
       "      <td>21</td>\n",
       "      <td>29</td>\n",
       "      <td>26</td>\n",
       "    </tr>\n",
       "    <tr>\n",
       "      <th>1</th>\n",
       "      <td>27</td>\n",
       "      <td>30</td>\n",
       "      <td>19</td>\n",
       "      <td>20</td>\n",
       "      <td>29</td>\n",
       "      <td>23</td>\n",
       "      <td>21</td>\n",
       "      <td>24</td>\n",
       "      <td>26</td>\n",
       "      <td>29</td>\n",
       "    </tr>\n",
       "    <tr>\n",
       "      <th>2</th>\n",
       "      <td>26</td>\n",
       "      <td>30</td>\n",
       "      <td>24</td>\n",
       "      <td>16</td>\n",
       "      <td>31</td>\n",
       "      <td>26</td>\n",
       "      <td>24</td>\n",
       "      <td>22</td>\n",
       "      <td>24</td>\n",
       "      <td>23</td>\n",
       "    </tr>\n",
       "    <tr>\n",
       "      <th>3</th>\n",
       "      <td>24</td>\n",
       "      <td>26</td>\n",
       "      <td>30</td>\n",
       "      <td>23</td>\n",
       "      <td>27</td>\n",
       "      <td>24</td>\n",
       "      <td>19</td>\n",
       "      <td>25</td>\n",
       "      <td>25</td>\n",
       "      <td>27</td>\n",
       "    </tr>\n",
       "    <tr>\n",
       "      <th>4</th>\n",
       "      <td>25</td>\n",
       "      <td>24</td>\n",
       "      <td>23</td>\n",
       "      <td>19</td>\n",
       "      <td>25</td>\n",
       "      <td>22</td>\n",
       "      <td>21</td>\n",
       "      <td>28</td>\n",
       "      <td>32</td>\n",
       "      <td>28</td>\n",
       "    </tr>\n",
       "  </tbody>\n",
       "</table>\n",
       "</div>"
      ],
      "text/plain": [
       "   Aaron  Brad  Brian  Colin  John  Jon  Josh  Matt  Micah  Ryan\n",
       "0     24    29     27     16    24   22    26    21     29    26\n",
       "1     27    30     19     20    29   23    21    24     26    29\n",
       "2     26    30     24     16    31   26    24    22     24    23\n",
       "3     24    26     30     23    27   24    19    25     25    27\n",
       "4     25    24     23     19    25   22    21    28     32    28"
      ]
     },
     "execution_count": 11,
     "metadata": {},
     "output_type": "execute_result"
    }
   ],
   "source": [
    "# aggregate seasons into scores for each person\n",
    "df_wins = pd.DataFrame([Counter(s) for s in sims])[persons]\n",
    "print(df_wins.shape)\n",
    "df_wins[:5]"
   ]
  },
  {
   "cell_type": "code",
   "execution_count": 12,
   "metadata": {},
   "outputs": [
    {
     "data": {
      "text/html": [
       "<div>\n",
       "<style scoped>\n",
       "    .dataframe tbody tr th:only-of-type {\n",
       "        vertical-align: middle;\n",
       "    }\n",
       "\n",
       "    .dataframe tbody tr th {\n",
       "        vertical-align: top;\n",
       "    }\n",
       "\n",
       "    .dataframe thead th {\n",
       "        text-align: right;\n",
       "    }\n",
       "</style>\n",
       "<table border=\"1\" class=\"dataframe\">\n",
       "  <thead>\n",
       "    <tr style=\"text-align: right;\">\n",
       "      <th></th>\n",
       "      <th>Aaron</th>\n",
       "      <th>Brad</th>\n",
       "      <th>Brian</th>\n",
       "      <th>Colin</th>\n",
       "      <th>John</th>\n",
       "      <th>Jon</th>\n",
       "      <th>Josh</th>\n",
       "      <th>Matt</th>\n",
       "      <th>Micah</th>\n",
       "      <th>Ryan</th>\n",
       "    </tr>\n",
       "  </thead>\n",
       "  <tbody>\n",
       "    <tr>\n",
       "      <th>0</th>\n",
       "      <td>6</td>\n",
       "      <td>1</td>\n",
       "      <td>3</td>\n",
       "      <td>10</td>\n",
       "      <td>6</td>\n",
       "      <td>8</td>\n",
       "      <td>4</td>\n",
       "      <td>9</td>\n",
       "      <td>1</td>\n",
       "      <td>4</td>\n",
       "    </tr>\n",
       "    <tr>\n",
       "      <th>1</th>\n",
       "      <td>4</td>\n",
       "      <td>1</td>\n",
       "      <td>10</td>\n",
       "      <td>9</td>\n",
       "      <td>2</td>\n",
       "      <td>7</td>\n",
       "      <td>8</td>\n",
       "      <td>6</td>\n",
       "      <td>5</td>\n",
       "      <td>2</td>\n",
       "    </tr>\n",
       "    <tr>\n",
       "      <th>2</th>\n",
       "      <td>3</td>\n",
       "      <td>2</td>\n",
       "      <td>5</td>\n",
       "      <td>10</td>\n",
       "      <td>1</td>\n",
       "      <td>3</td>\n",
       "      <td>5</td>\n",
       "      <td>9</td>\n",
       "      <td>5</td>\n",
       "      <td>8</td>\n",
       "    </tr>\n",
       "    <tr>\n",
       "      <th>3</th>\n",
       "      <td>7</td>\n",
       "      <td>4</td>\n",
       "      <td>1</td>\n",
       "      <td>9</td>\n",
       "      <td>2</td>\n",
       "      <td>7</td>\n",
       "      <td>10</td>\n",
       "      <td>5</td>\n",
       "      <td>5</td>\n",
       "      <td>2</td>\n",
       "    </tr>\n",
       "    <tr>\n",
       "      <th>4</th>\n",
       "      <td>4</td>\n",
       "      <td>6</td>\n",
       "      <td>7</td>\n",
       "      <td>10</td>\n",
       "      <td>4</td>\n",
       "      <td>8</td>\n",
       "      <td>9</td>\n",
       "      <td>2</td>\n",
       "      <td>1</td>\n",
       "      <td>2</td>\n",
       "    </tr>\n",
       "  </tbody>\n",
       "</table>\n",
       "</div>"
      ],
      "text/plain": [
       "   Aaron  Brad  Brian  Colin  John  Jon  Josh  Matt  Micah  Ryan\n",
       "0      6     1      3     10     6    8     4     9      1     4\n",
       "1      4     1     10      9     2    7     8     6      5     2\n",
       "2      3     2      5     10     1    3     5     9      5     8\n",
       "3      7     4      1      9     2    7    10     5      5     2\n",
       "4      4     6      7     10     4    8     9     2      1     2"
      ]
     },
     "execution_count": 12,
     "metadata": {},
     "output_type": "execute_result"
    }
   ],
   "source": [
    "# use min method because ties take from following placements\n",
    "# mistakenly used dense at first\n",
    "df_rank = df_wins.rank(axis=1, method=\"min\", ascending=False).astype(int)\n",
    "df_rank[:5]"
   ]
  },
  {
   "cell_type": "code",
   "execution_count": 13,
   "metadata": {},
   "outputs": [
    {
     "data": {
      "text/html": [
       "<style  type=\"text/css\" >\n",
       "</style>  \n",
       "<table id=\"T_5228b124_c513_11e8_b09a_a44cc8a22a7b\" > \n",
       "<thead>    <tr> \n",
       "        <th class=\"blank level0\" ></th> \n",
       "        <th class=\"col_heading level0 col0\" >1</th> \n",
       "        <th class=\"col_heading level0 col1\" >2</th> \n",
       "        <th class=\"col_heading level0 col2\" >3</th> \n",
       "    </tr></thead> \n",
       "<tbody>    <tr> \n",
       "        <th id=\"T_5228b124_c513_11e8_b09a_a44cc8a22a7blevel0_row0\" class=\"row_heading level0 row0\" >Ryan</th> \n",
       "        <td id=\"T_5228b124_c513_11e8_b09a_a44cc8a22a7brow0_col0\" class=\"data row0 col0\" >30.2%</td> \n",
       "        <td id=\"T_5228b124_c513_11e8_b09a_a44cc8a22a7brow0_col1\" class=\"data row0 col1\" >20.8%</td> \n",
       "        <td id=\"T_5228b124_c513_11e8_b09a_a44cc8a22a7brow0_col2\" class=\"data row0 col2\" >15.0%</td> \n",
       "    </tr>    <tr> \n",
       "        <th id=\"T_5228b124_c513_11e8_b09a_a44cc8a22a7blevel0_row1\" class=\"row_heading level0 row1\" >Brad</th> \n",
       "        <td id=\"T_5228b124_c513_11e8_b09a_a44cc8a22a7brow1_col0\" class=\"data row1 col0\" >29.8%</td> \n",
       "        <td id=\"T_5228b124_c513_11e8_b09a_a44cc8a22a7brow1_col1\" class=\"data row1 col1\" >21.6%</td> \n",
       "        <td id=\"T_5228b124_c513_11e8_b09a_a44cc8a22a7brow1_col2\" class=\"data row1 col2\" >15.9%</td> \n",
       "    </tr>    <tr> \n",
       "        <th id=\"T_5228b124_c513_11e8_b09a_a44cc8a22a7blevel0_row2\" class=\"row_heading level0 row2\" >Micah</th> \n",
       "        <td id=\"T_5228b124_c513_11e8_b09a_a44cc8a22a7brow2_col0\" class=\"data row2 col0\" >20.9%</td> \n",
       "        <td id=\"T_5228b124_c513_11e8_b09a_a44cc8a22a7brow2_col1\" class=\"data row2 col1\" >18.1%</td> \n",
       "        <td id=\"T_5228b124_c513_11e8_b09a_a44cc8a22a7brow2_col2\" class=\"data row2 col2\" >16.0%</td> \n",
       "    </tr>    <tr> \n",
       "        <th id=\"T_5228b124_c513_11e8_b09a_a44cc8a22a7blevel0_row3\" class=\"row_heading level0 row3\" >Brian</th> \n",
       "        <td id=\"T_5228b124_c513_11e8_b09a_a44cc8a22a7brow3_col0\" class=\"data row3 col0\" >19.1%</td> \n",
       "        <td id=\"T_5228b124_c513_11e8_b09a_a44cc8a22a7brow3_col1\" class=\"data row3 col1\" >17.8%</td> \n",
       "        <td id=\"T_5228b124_c513_11e8_b09a_a44cc8a22a7brow3_col2\" class=\"data row3 col2\" >15.7%</td> \n",
       "    </tr>    <tr> \n",
       "        <th id=\"T_5228b124_c513_11e8_b09a_a44cc8a22a7blevel0_row4\" class=\"row_heading level0 row4\" >John</th> \n",
       "        <td id=\"T_5228b124_c513_11e8_b09a_a44cc8a22a7brow4_col0\" class=\"data row4 col0\" >7.8%</td> \n",
       "        <td id=\"T_5228b124_c513_11e8_b09a_a44cc8a22a7brow4_col1\" class=\"data row4 col1\" >10.0%</td> \n",
       "        <td id=\"T_5228b124_c513_11e8_b09a_a44cc8a22a7brow4_col2\" class=\"data row4 col2\" >11.5%</td> \n",
       "    </tr>    <tr> \n",
       "        <th id=\"T_5228b124_c513_11e8_b09a_a44cc8a22a7blevel0_row5\" class=\"row_heading level0 row5\" >Jon</th> \n",
       "        <td id=\"T_5228b124_c513_11e8_b09a_a44cc8a22a7brow5_col0\" class=\"data row5 col0\" >7.7%</td> \n",
       "        <td id=\"T_5228b124_c513_11e8_b09a_a44cc8a22a7brow5_col1\" class=\"data row5 col1\" >11.1%</td> \n",
       "        <td id=\"T_5228b124_c513_11e8_b09a_a44cc8a22a7brow5_col2\" class=\"data row5 col2\" >12.7%</td> \n",
       "    </tr>    <tr> \n",
       "        <th id=\"T_5228b124_c513_11e8_b09a_a44cc8a22a7blevel0_row6\" class=\"row_heading level0 row6\" >Aaron</th> \n",
       "        <td id=\"T_5228b124_c513_11e8_b09a_a44cc8a22a7brow6_col0\" class=\"data row6 col0\" >7.2%</td> \n",
       "        <td id=\"T_5228b124_c513_11e8_b09a_a44cc8a22a7brow6_col1\" class=\"data row6 col1\" >10.9%</td> \n",
       "        <td id=\"T_5228b124_c513_11e8_b09a_a44cc8a22a7brow6_col2\" class=\"data row6 col2\" >13.4%</td> \n",
       "    </tr>    <tr> \n",
       "        <th id=\"T_5228b124_c513_11e8_b09a_a44cc8a22a7blevel0_row7\" class=\"row_heading level0 row7\" >Matt</th> \n",
       "        <td id=\"T_5228b124_c513_11e8_b09a_a44cc8a22a7brow7_col0\" class=\"data row7 col0\" >0.6%</td> \n",
       "        <td id=\"T_5228b124_c513_11e8_b09a_a44cc8a22a7brow7_col1\" class=\"data row7 col1\" >1.4%</td> \n",
       "        <td id=\"T_5228b124_c513_11e8_b09a_a44cc8a22a7brow7_col2\" class=\"data row7 col2\" >2.6%</td> \n",
       "    </tr>    <tr> \n",
       "        <th id=\"T_5228b124_c513_11e8_b09a_a44cc8a22a7blevel0_row8\" class=\"row_heading level0 row8\" >Josh</th> \n",
       "        <td id=\"T_5228b124_c513_11e8_b09a_a44cc8a22a7brow8_col0\" class=\"data row8 col0\" >0.4%</td> \n",
       "        <td id=\"T_5228b124_c513_11e8_b09a_a44cc8a22a7brow8_col1\" class=\"data row8 col1\" >1.0%</td> \n",
       "        <td id=\"T_5228b124_c513_11e8_b09a_a44cc8a22a7brow8_col2\" class=\"data row8 col2\" >2.1%</td> \n",
       "    </tr>    <tr> \n",
       "        <th id=\"T_5228b124_c513_11e8_b09a_a44cc8a22a7blevel0_row9\" class=\"row_heading level0 row9\" >Colin</th> \n",
       "        <td id=\"T_5228b124_c513_11e8_b09a_a44cc8a22a7brow9_col0\" class=\"data row9 col0\" >0.0%</td> \n",
       "        <td id=\"T_5228b124_c513_11e8_b09a_a44cc8a22a7brow9_col1\" class=\"data row9 col1\" >0.0%</td> \n",
       "        <td id=\"T_5228b124_c513_11e8_b09a_a44cc8a22a7brow9_col2\" class=\"data row9 col2\" >0.1%</td> \n",
       "    </tr></tbody> \n",
       "</table> "
      ],
      "text/plain": [
       "<pandas.io.formats.style.Styler at 0x284f22e38d0>"
      ]
     },
     "execution_count": 13,
     "metadata": {},
     "output_type": "execute_result"
    }
   ],
   "source": [
    "rank1 = (df_rank==1).sum(0) / n_sims\n",
    "rank2 = (df_rank==2).sum(0) / n_sims\n",
    "rank3 = (df_rank==3).sum(0) / n_sims\n",
    "\n",
    "probs = pd.concat([rank1, rank2, rank3], axis=1)\n",
    "probs.columns = [\"1\", \"2\", \"3\"]\n",
    "probs.sort_values(\"1\", ascending=False).style.format(\"{:.1%}\")"
   ]
  },
  {
   "cell_type": "code",
   "execution_count": 14,
   "metadata": {},
   "outputs": [],
   "source": [
    "formatted = (probs*100).sort_values(\"1\", ascending=False).round(0).astype(int).astype(str)+'%'\n",
    "formatted.to_csv(\"probabilities.txt\", sep=\" \", header=False)"
   ]
  },
  {
   "cell_type": "code",
   "execution_count": 15,
   "metadata": {},
   "outputs": [],
   "source": [
    "import seaborn as sns\n",
    "%matplotlib inline"
   ]
  },
  {
   "cell_type": "code",
   "execution_count": 16,
   "metadata": {},
   "outputs": [],
   "source": [
    "person_sort = probs.sort_values(\"1\", ascending=False).index"
   ]
  },
  {
   "cell_type": "code",
   "execution_count": 17,
   "metadata": {},
   "outputs": [
    {
     "data": {
      "text/plain": [
       "<matplotlib.axes._subplots.AxesSubplot at 0x284806144e0>"
      ]
     },
     "execution_count": 17,
     "metadata": {},
     "output_type": "execute_result"
    },
    {
     "data": {
      "image/png": "[encoded data removed]",
      "text/plain": [
       "<Figure size 432x288 with 2 Axes>"
      ]
     },
     "metadata": {},
     "output_type": "display_data"
    }
   ],
   "source": [
    "# score distribution for individual players\n",
    "dist_df = []\n",
    "for person in persons:\n",
    "    dist_df.append(pd.DataFrame(df_wins.groupby(person).size() / n_sims))\n",
    "\n",
    "dist_df = pd.concat(dist_df, axis=1).fillna(0)\n",
    "dist_df.columns = persons\n",
    "#dist_df.style.format(\"{:.1%}\")\n",
    "sns.heatmap(dist_df[person_sort], annot=False)"
   ]
  },
  {
   "cell_type": "code",
   "execution_count": 18,
   "metadata": {},
   "outputs": [],
   "source": [
    "# union team data to compute wins\n",
    "a = df[[\"person1\", \"team1\", \"prob1\"]].rename(columns={\"person1\":\"person\", \"team1\":\"team\", \"prob1\":\"prob\"})\n",
    "b = df[[\"person2\", \"team2\", \"prob2\"]].rename(columns={\"person2\":\"person\", \"team2\":\"team\", \"prob2\":\"prob\"})\n",
    "df_union = pd.concat([a, b], axis=0, ignore_index=True)\n",
    "df_union[\"win\"] = (df_union[\"prob\"] == 1).astype(int)\n",
    "totals = df_union.groupby([\"person\", \"team\"]).sum().reset_index()"
   ]
  },
  {
   "cell_type": "code",
   "execution_count": 19,
   "metadata": {},
   "outputs": [
    {
     "data": {
      "text/plain": [
       "954"
      ]
     },
     "execution_count": 19,
     "metadata": {},
     "output_type": "execute_result"
    }
   ],
   "source": [
    "# text for Notes app\n",
    "text = ''\n",
    "for person in persons:\n",
    "    team_scores = totals[totals.person==person]\n",
    "    score_text = \"\\n\".join(\" - \" + team_scores.team + \": \" + team_scores.win.astype(str))\n",
    "    person_total = \"TOTAL: \" + str(team_scores.win.sum())\n",
    "    person_max = \"MAX: \" + str(df_current.loc[person].max_possible)\n",
    "    placement_prob = \"1st 2nd 3rd: \" + \" \".join((probs.loc[person]*100).round(0).astype(int).astype(str) + \"%\")\n",
    "    parts = [person, score_text, person_total, person_max, placement_prob, \"\\n\"]\n",
    "    text += \"\\n\".join(parts)\n",
    "    \n",
    "open(\"report.txt\", \"w\").write(text)"
   ]
  },
  {
   "cell_type": "code",
   "execution_count": null,
   "metadata": {
    "collapsed": true
   },
   "outputs": [],
   "source": []
  }
 ],
 "metadata": {
  "kernelspec": {
   "display_name": "Python 3",
   "language": "python",
   "name": "python3"
  },
  "language_info": {
   "codemirror_mode": {
    "name": "ipython",
    "version": 3
   },
   "file_extension": ".py",
   "mimetype": "text/x-python",
   "name": "python",
   "nbconvert_exporter": "python",
   "pygments_lexer": "ipython3",
   "version": "3.6.5"
  }
 },
 "nbformat": 4,
 "nbformat_minor": 2
}
