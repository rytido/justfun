{
 "cells": [
  {
   "cell_type": "code",
   "execution_count": 1,
   "metadata": {},
   "outputs": [],
   "source": [
    "import requests\n",
    "import numpy as np\n",
    "import pandas as pd\n",
    "from collections import Counter"
   ]
  },
  {
   "cell_type": "code",
   "execution_count": 42,
   "metadata": {},
   "outputs": [],
   "source": [
    "draft_order = ['Aaron', 'John', 'Brian', 'Josh', 'Brad', 'Micah', 'Matt', 'Jon', 'Ryan', 'Colin', \n",
    "               'Matt', 'Colin', 'Brian', 'Ryan', 'Brad', 'John', 'Jon', 'Josh', 'Micah', 'Aaron', \n",
    "               'Jon', 'Micah', 'Ryan', 'Colin', 'Josh', 'Aaron', 'Brad', 'Matt', 'John', 'Brian','','']"
   ]
  },
  {
   "cell_type": "code",
   "execution_count": 43,
   "metadata": {},
   "outputs": [
    {
     "data": {
      "text/plain": [
       "{'Kansas City': 'Aaron',\n",
       " 'Miami': 'John',\n",
       " 'L.A. Rams': 'Brian',\n",
       " 'Washington': 'Josh',\n",
       " 'Baltimore': 'Brad',\n",
       " 'Tennessee': 'Micah',\n",
       " 'Carolina': 'Matt',\n",
       " 'Chicago': 'Jon',\n",
       " 'Cincinnati': 'Ryan',\n",
       " 'Tampa Bay': 'Colin',\n",
       " 'Denver': 'Matt',\n",
       " 'Philadelphia': 'Colin',\n",
       " 'New Orleans': 'Brian',\n",
       " 'Jacksonville': 'Ryan',\n",
       " 'New England': 'Brad',\n",
       " 'San Francisco': 'John',\n",
       " 'Pittsburgh': 'Jon',\n",
       " 'N.Y. Giants': 'Josh',\n",
       " 'Seattle': 'Micah',\n",
       " 'N.Y. Jets': 'Aaron',\n",
       " 'L.A. Chargers': 'Jon',\n",
       " 'Minnesota': 'Micah',\n",
       " 'Atlanta': 'Ryan',\n",
       " 'Indianapolis': 'Colin',\n",
       " 'Green Bay': 'Josh',\n",
       " 'Detroit': 'Aaron',\n",
       " 'Dallas': 'Brad',\n",
       " 'Cleveland': 'Matt',\n",
       " 'Buffalo': 'John',\n",
       " 'Oakland': 'Brian',\n",
       " 'Houston': '',\n",
       " 'Arizona': ''}"
      ]
     },
     "execution_count": 43,
     "metadata": {},
     "output_type": "execute_result"
    }
   ],
   "source": [
    "# for determining optimal assigments given current scores\n",
    "# must run code below before this\n",
    "team_ranking = df_union.groupby([\"team\"])[[\"win\"]].sum().sort_values('win', ascending=False)\n",
    "team_assignment = {t:p for t,p in zip(team_ranking.index, draft_order)}\n",
    "team_assignment"
   ]
  },
  {
   "cell_type": "code",
   "execution_count": 3,
   "metadata": {},
   "outputs": [],
   "source": [
    "# got team names from set(df.team1).union(df.team2)\n",
    "# Arizona and Cleveland unassigned\n",
    "team_assignment = {\n",
    " 'Arizona': '',\n",
    " 'Atlanta': 'Matt',\n",
    " 'Baltimore': 'John',\n",
    " 'Buffalo': 'Ryan',\n",
    " 'Carolina': 'Ryan',\n",
    " 'Chicago': 'Aaron',\n",
    " 'Cincinnati': 'Jon',\n",
    " 'Cleveland': '',\n",
    " 'Dallas': 'Brad',\n",
    " 'Denver': 'Micah',\n",
    " 'Detroit': 'Colin',\n",
    " 'Green Bay': 'Jon',\n",
    " 'Houston': 'Colin',\n",
    " 'Indianapolis': 'Colin',\n",
    " 'Jacksonville': 'Brian',\n",
    " 'Kansas City': 'Ryan',\n",
    " 'L.A. Chargers': 'Matt',\n",
    " 'L.A. Rams': 'John',\n",
    " 'Miami': 'Brad',\n",
    " 'Minnesota': 'Josh',\n",
    " 'N.Y. Giants': 'John',\n",
    " 'N.Y. Jets': 'Josh',\n",
    " 'New England': 'Aaron',\n",
    " 'New Orleans': 'Micah',\n",
    " 'Oakland': 'Matt',\n",
    " 'Philadelphia': 'Brad',\n",
    " 'Pittsburgh': 'Brian',\n",
    " 'San Francisco': 'Aaron',\n",
    " 'Seattle': 'Jon',\n",
    " 'Tampa Bay': 'Brian',\n",
    " 'Tennessee': 'Micah',\n",
    " 'Washington': 'Josh'}"
   ]
  },
  {
   "cell_type": "code",
   "execution_count": 4,
   "metadata": {},
   "outputs": [
    {
     "data": {
      "text/plain": [
       "['Aaron',\n",
       " 'Brad',\n",
       " 'Brian',\n",
       " 'Colin',\n",
       " 'John',\n",
       " 'Jon',\n",
       " 'Josh',\n",
       " 'Matt',\n",
       " 'Micah',\n",
       " 'Ryan']"
      ]
     },
     "execution_count": 4,
     "metadata": {},
     "output_type": "execute_result"
    }
   ],
   "source": [
    "persons = sorted(list(set(p for p in team_assignment.values() if p!='')))\n",
    "persons"
   ]
  },
  {
   "cell_type": "code",
   "execution_count": 5,
   "metadata": {},
   "outputs": [],
   "source": [
    "def team_split(game):\n",
    "    \"\"\"split team text\"\"\"\n",
    "    return game.split('<td class=\"td text team')[1:]\n",
    "\n",
    "def team_name(team_raw):\n",
    "    \"\"\"extract team name\"\"\"\n",
    "    part = team_raw.split('\">')[1]\n",
    "    return part.split('</td>')[0].strip()\n",
    "\n",
    "def team_probability(team_raw):\n",
    "    \"\"\"extract win probability for team\n",
    "    apparently they put 'loser' and 'winner' in the class name when the game is complete\"\"\"\n",
    "    if 'loser\">' in team_raw:\n",
    "        return 0\n",
    "    elif 'winner\">' in team_raw:\n",
    "        return 1\n",
    "    else: \n",
    "        part = team_raw.split('%</td><td class=\"td number score\">')[0]\n",
    "        return float(part.split('>')[-1])/100"
   ]
  },
  {
   "cell_type": "code",
   "execution_count": 6,
   "metadata": {},
   "outputs": [
    {
     "data": {
      "text/plain": [
       "256"
      ]
     },
     "execution_count": 6,
     "metadata": {},
     "output_type": "execute_result"
    }
   ],
   "source": [
    "# get full html of page\n",
    "r = requests.get(\"https://projects.fivethirtyeight.com/2018-nfl-predictions/games/\")\n",
    "\n",
    "raw = r.text\n",
    "\n",
    "# html for each game table\n",
    "# first element is not relevant\n",
    "games = raw.split('<table class=\"game-body\">')[1:]\n",
    "len(games)"
   ]
  },
  {
   "cell_type": "code",
   "execution_count": 44,
   "metadata": {},
   "outputs": [
    {
     "name": "stdout",
     "output_type": "stream",
     "text": [
      "Green Bay Seattle\n",
      "0.31 0.69\n"
     ]
    }
   ],
   "source": [
    "# function example usage\n",
    "game = games[100]\n",
    "team1, team2 = team_split(game)\n",
    "print(team_name(team1), team_name(team2))\n",
    "print(team_probability(team1), team_probability(team2))"
   ]
  },
  {
   "cell_type": "code",
   "execution_count": 45,
   "metadata": {},
   "outputs": [
    {
     "data": {
      "text/html": [
       "<div>\n",
       "<style scoped>\n",
       "    .dataframe tbody tr th:only-of-type {\n",
       "        vertical-align: middle;\n",
       "    }\n",
       "\n",
       "    .dataframe tbody tr th {\n",
       "        vertical-align: top;\n",
       "    }\n",
       "\n",
       "    .dataframe thead th {\n",
       "        text-align: right;\n",
       "    }\n",
       "</style>\n",
       "<table border=\"1\" class=\"dataframe\">\n",
       "  <thead>\n",
       "    <tr style=\"text-align: right;\">\n",
       "      <th></th>\n",
       "      <th>team1</th>\n",
       "      <th>team2</th>\n",
       "      <th>prob1</th>\n",
       "      <th>prob2</th>\n",
       "      <th>person1</th>\n",
       "      <th>person2</th>\n",
       "    </tr>\n",
       "  </thead>\n",
       "  <tbody>\n",
       "    <tr>\n",
       "      <th>0</th>\n",
       "      <td>Minnesota</td>\n",
       "      <td>L.A. Rams</td>\n",
       "      <td>0.35</td>\n",
       "      <td>0.65</td>\n",
       "      <td>Micah</td>\n",
       "      <td>Brian</td>\n",
       "    </tr>\n",
       "    <tr>\n",
       "      <th>1</th>\n",
       "      <td>Buffalo</td>\n",
       "      <td>Green Bay</td>\n",
       "      <td>0.47</td>\n",
       "      <td>0.53</td>\n",
       "      <td>John</td>\n",
       "      <td>Josh</td>\n",
       "    </tr>\n",
       "    <tr>\n",
       "      <th>2</th>\n",
       "      <td>Cincinnati</td>\n",
       "      <td>Atlanta</td>\n",
       "      <td>0.32</td>\n",
       "      <td>0.68</td>\n",
       "      <td>Ryan</td>\n",
       "      <td>Ryan</td>\n",
       "    </tr>\n",
       "    <tr>\n",
       "      <th>3</th>\n",
       "      <td>Detroit</td>\n",
       "      <td>Dallas</td>\n",
       "      <td>0.38</td>\n",
       "      <td>0.62</td>\n",
       "      <td>Aaron</td>\n",
       "      <td>Brad</td>\n",
       "    </tr>\n",
       "    <tr>\n",
       "      <th>4</th>\n",
       "      <td>Houston</td>\n",
       "      <td>Indianapolis</td>\n",
       "      <td>0.33</td>\n",
       "      <td>0.67</td>\n",
       "      <td></td>\n",
       "      <td>Colin</td>\n",
       "    </tr>\n",
       "  </tbody>\n",
       "</table>\n",
       "</div>"
      ],
      "text/plain": [
       "        team1         team2  prob1  prob2 person1 person2\n",
       "0   Minnesota     L.A. Rams   0.35   0.65   Micah   Brian\n",
       "1     Buffalo     Green Bay   0.47   0.53    John    Josh\n",
       "2  Cincinnati       Atlanta   0.32   0.68    Ryan    Ryan\n",
       "3     Detroit        Dallas   0.38   0.62   Aaron    Brad\n",
       "4     Houston  Indianapolis   0.33   0.67           Colin"
      ]
     },
     "execution_count": 45,
     "metadata": {},
     "output_type": "execute_result"
    }
   ],
   "source": [
    "# build game probabilities data frame\n",
    "data = []\n",
    "for game in games:\n",
    "    team1, team2 = team_split(game)\n",
    "    team1_name, team2_name = team_name(team1), team_name(team2)\n",
    "    person1, person2 = team_assignment[team1_name], team_assignment[team2_name]\n",
    "    info = [team1_name, team2_name, team_probability(team1), team_probability(team2), person1, person2]\n",
    "    data.append(info)\n",
    "    \n",
    "cols = [\"team1\", \"team2\", \"prob1\", \"prob2\", \"person1\", \"person2\"]\n",
    "df = pd.DataFrame(data, columns=cols)\n",
    "df.to_csv(\"games.txt\", index=False)\n",
    "df[:5]"
   ]
  },
  {
   "cell_type": "code",
   "execution_count": 9,
   "metadata": {},
   "outputs": [
    {
     "data": {
      "text/plain": [
       "'\\ndf.loc[df.team1==\"Detroit\", \"prob1\"] = 1\\ndf.loc[df.team1==\"Detroit\", \"prob2\"] = 0\\ndf.loc[df.team2==\"Detroit\", \"prob1\"] = 0\\ndf.loc[df.team2==\"Detroit\", \"prob2\"] = 1\\ndf[(df.team1==\"Detroit\") | (df.team2==\"Detroit\")]\\n'"
      ]
     },
     "execution_count": 9,
     "metadata": {},
     "output_type": "execute_result"
    }
   ],
   "source": [
    "# test scenarios\n",
    "\"\"\"\n",
    "df.loc[df.team1==\"Detroit\", \"prob1\"] = 1\n",
    "df.loc[df.team1==\"Detroit\", \"prob2\"] = 0\n",
    "df.loc[df.team2==\"Detroit\", \"prob1\"] = 0\n",
    "df.loc[df.team2==\"Detroit\", \"prob2\"] = 1\n",
    "df[(df.team1==\"Detroit\") | (df.team2==\"Detroit\")]\n",
    "\"\"\""
   ]
  },
  {
   "cell_type": "code",
   "execution_count": 46,
   "metadata": {},
   "outputs": [
    {
     "data": {
      "text/html": [
       "<div>\n",
       "<style scoped>\n",
       "    .dataframe tbody tr th:only-of-type {\n",
       "        vertical-align: middle;\n",
       "    }\n",
       "\n",
       "    .dataframe tbody tr th {\n",
       "        vertical-align: top;\n",
       "    }\n",
       "\n",
       "    .dataframe thead th {\n",
       "        text-align: right;\n",
       "    }\n",
       "</style>\n",
       "<table border=\"1\" class=\"dataframe\">\n",
       "  <thead>\n",
       "    <tr style=\"text-align: right;\">\n",
       "      <th></th>\n",
       "      <th>wins</th>\n",
       "      <th>max_possible</th>\n",
       "    </tr>\n",
       "    <tr>\n",
       "      <th>person</th>\n",
       "      <th></th>\n",
       "      <th></th>\n",
       "    </tr>\n",
       "  </thead>\n",
       "  <tbody>\n",
       "    <tr>\n",
       "      <th>Aaron</th>\n",
       "      <td>5</td>\n",
       "      <td>44</td>\n",
       "    </tr>\n",
       "    <tr>\n",
       "      <th>Colin</th>\n",
       "      <td>5</td>\n",
       "      <td>44</td>\n",
       "    </tr>\n",
       "    <tr>\n",
       "      <th>Brian</th>\n",
       "      <td>5</td>\n",
       "      <td>43</td>\n",
       "    </tr>\n",
       "    <tr>\n",
       "      <th>Ryan</th>\n",
       "      <td>5</td>\n",
       "      <td>43</td>\n",
       "    </tr>\n",
       "    <tr>\n",
       "      <th>John</th>\n",
       "      <td>5</td>\n",
       "      <td>42</td>\n",
       "    </tr>\n",
       "    <tr>\n",
       "      <th>Matt</th>\n",
       "      <td>5</td>\n",
       "      <td>42</td>\n",
       "    </tr>\n",
       "    <tr>\n",
       "      <th>Brad</th>\n",
       "      <td>4</td>\n",
       "      <td>43</td>\n",
       "    </tr>\n",
       "    <tr>\n",
       "      <th>Jon</th>\n",
       "      <td>4</td>\n",
       "      <td>42</td>\n",
       "    </tr>\n",
       "    <tr>\n",
       "      <th>Micah</th>\n",
       "      <td>4</td>\n",
       "      <td>42</td>\n",
       "    </tr>\n",
       "    <tr>\n",
       "      <th>Josh</th>\n",
       "      <td>4</td>\n",
       "      <td>41</td>\n",
       "    </tr>\n",
       "  </tbody>\n",
       "</table>\n",
       "</div>"
      ],
      "text/plain": [
       "        wins  max_possible\n",
       "person                    \n",
       "Aaron      5            44\n",
       "Colin      5            44\n",
       "Brian      5            43\n",
       "Ryan       5            43\n",
       "John       5            42\n",
       "Matt       5            42\n",
       "Brad       4            43\n",
       "Jon        4            42\n",
       "Micah      4            42\n",
       "Josh       4            41"
      ]
     },
     "execution_count": 46,
     "metadata": {},
     "output_type": "execute_result"
    }
   ],
   "source": [
    "# current and best possible score by person\n",
    "current = []\n",
    "for p in persons:\n",
    "    certain_win = possible_win = ((df.person1==p) & (df.prob1==1)) | ((df.person2==p) & (df.prob2==1))\n",
    "    possible_win = ((df.person1==p) & (df.prob1>0)) | ((df.person2==p) & (df.prob2>0))\n",
    "    current.append([p, certain_win.sum(), possible_win.sum()])\n",
    "    \n",
    "df_current = pd.DataFrame(current, columns=['person', 'wins', 'max_possible']).set_index(\"person\")\n",
    "df_formatted = df_current.sort_values(['wins','max_possible'], ascending=False)\n",
    "df_formatted.to_csv(\"scores.txt\", sep=\" \", header=False)\n",
    "df_formatted"
   ]
  },
  {
   "cell_type": "code",
   "execution_count": 11,
   "metadata": {},
   "outputs": [
    {
     "data": {
      "text/plain": [
       "(20000, 256)"
      ]
     },
     "execution_count": 11,
     "metadata": {},
     "output_type": "execute_result"
    }
   ],
   "source": [
    "# simulate seasons\n",
    "n_sims = 20000\n",
    "sims = []\n",
    "for index, g in df.iterrows():\n",
    "    a = [g['person1'], g['person2']]\n",
    "    p = [g['prob1'], g['prob2']]\n",
    "    if sum(p) != 0:\n",
    "        game_sims = np.random.choice(a, n_sims, p=p)\n",
    "    sims.append(game_sims)\n",
    "\n",
    "sims = np.array(sims).T\n",
    "sims.shape"
   ]
  },
  {
   "cell_type": "code",
   "execution_count": 12,
   "metadata": {},
   "outputs": [
    {
     "name": "stdout",
     "output_type": "stream",
     "text": [
      "(20000, 10)\n"
     ]
    },
    {
     "data": {
      "text/html": [
       "<div>\n",
       "<style scoped>\n",
       "    .dataframe tbody tr th:only-of-type {\n",
       "        vertical-align: middle;\n",
       "    }\n",
       "\n",
       "    .dataframe tbody tr th {\n",
       "        vertical-align: top;\n",
       "    }\n",
       "\n",
       "    .dataframe thead th {\n",
       "        text-align: right;\n",
       "    }\n",
       "</style>\n",
       "<table border=\"1\" class=\"dataframe\">\n",
       "  <thead>\n",
       "    <tr style=\"text-align: right;\">\n",
       "      <th></th>\n",
       "      <th>Aaron</th>\n",
       "      <th>Brad</th>\n",
       "      <th>Brian</th>\n",
       "      <th>Colin</th>\n",
       "      <th>John</th>\n",
       "      <th>Jon</th>\n",
       "      <th>Josh</th>\n",
       "      <th>Matt</th>\n",
       "      <th>Micah</th>\n",
       "      <th>Ryan</th>\n",
       "    </tr>\n",
       "  </thead>\n",
       "  <tbody>\n",
       "    <tr>\n",
       "      <th>0</th>\n",
       "      <td>26</td>\n",
       "      <td>32</td>\n",
       "      <td>23</td>\n",
       "      <td>15</td>\n",
       "      <td>28</td>\n",
       "      <td>21</td>\n",
       "      <td>19</td>\n",
       "      <td>24</td>\n",
       "      <td>25</td>\n",
       "      <td>31</td>\n",
       "    </tr>\n",
       "    <tr>\n",
       "      <th>1</th>\n",
       "      <td>24</td>\n",
       "      <td>30</td>\n",
       "      <td>27</td>\n",
       "      <td>18</td>\n",
       "      <td>24</td>\n",
       "      <td>25</td>\n",
       "      <td>24</td>\n",
       "      <td>14</td>\n",
       "      <td>29</td>\n",
       "      <td>33</td>\n",
       "    </tr>\n",
       "    <tr>\n",
       "      <th>2</th>\n",
       "      <td>24</td>\n",
       "      <td>31</td>\n",
       "      <td>28</td>\n",
       "      <td>15</td>\n",
       "      <td>22</td>\n",
       "      <td>23</td>\n",
       "      <td>22</td>\n",
       "      <td>25</td>\n",
       "      <td>28</td>\n",
       "      <td>31</td>\n",
       "    </tr>\n",
       "    <tr>\n",
       "      <th>3</th>\n",
       "      <td>26</td>\n",
       "      <td>33</td>\n",
       "      <td>25</td>\n",
       "      <td>14</td>\n",
       "      <td>25</td>\n",
       "      <td>25</td>\n",
       "      <td>22</td>\n",
       "      <td>24</td>\n",
       "      <td>24</td>\n",
       "      <td>28</td>\n",
       "    </tr>\n",
       "    <tr>\n",
       "      <th>4</th>\n",
       "      <td>23</td>\n",
       "      <td>30</td>\n",
       "      <td>30</td>\n",
       "      <td>18</td>\n",
       "      <td>29</td>\n",
       "      <td>20</td>\n",
       "      <td>23</td>\n",
       "      <td>25</td>\n",
       "      <td>24</td>\n",
       "      <td>28</td>\n",
       "    </tr>\n",
       "  </tbody>\n",
       "</table>\n",
       "</div>"
      ],
      "text/plain": [
       "   Aaron  Brad  Brian  Colin  John  Jon  Josh  Matt  Micah  Ryan\n",
       "0     26    32     23     15    28   21    19    24     25    31\n",
       "1     24    30     27     18    24   25    24    14     29    33\n",
       "2     24    31     28     15    22   23    22    25     28    31\n",
       "3     26    33     25     14    25   25    22    24     24    28\n",
       "4     23    30     30     18    29   20    23    25     24    28"
      ]
     },
     "execution_count": 12,
     "metadata": {},
     "output_type": "execute_result"
    }
   ],
   "source": [
    "# aggregate seasons into scores for each person\n",
    "df_wins = pd.DataFrame([Counter(s) for s in sims])[persons]\n",
    "print(df_wins.shape)\n",
    "df_wins[:5]"
   ]
  },
  {
   "cell_type": "code",
   "execution_count": 13,
   "metadata": {},
   "outputs": [
    {
     "data": {
      "text/html": [
       "<div>\n",
       "<style scoped>\n",
       "    .dataframe tbody tr th:only-of-type {\n",
       "        vertical-align: middle;\n",
       "    }\n",
       "\n",
       "    .dataframe tbody tr th {\n",
       "        vertical-align: top;\n",
       "    }\n",
       "\n",
       "    .dataframe thead th {\n",
       "        text-align: right;\n",
       "    }\n",
       "</style>\n",
       "<table border=\"1\" class=\"dataframe\">\n",
       "  <thead>\n",
       "    <tr style=\"text-align: right;\">\n",
       "      <th></th>\n",
       "      <th>Aaron</th>\n",
       "      <th>Brad</th>\n",
       "      <th>Brian</th>\n",
       "      <th>Colin</th>\n",
       "      <th>John</th>\n",
       "      <th>Jon</th>\n",
       "      <th>Josh</th>\n",
       "      <th>Matt</th>\n",
       "      <th>Micah</th>\n",
       "      <th>Ryan</th>\n",
       "    </tr>\n",
       "  </thead>\n",
       "  <tbody>\n",
       "    <tr>\n",
       "      <th>0</th>\n",
       "      <td>4</td>\n",
       "      <td>1</td>\n",
       "      <td>7</td>\n",
       "      <td>10</td>\n",
       "      <td>3</td>\n",
       "      <td>8</td>\n",
       "      <td>9</td>\n",
       "      <td>6</td>\n",
       "      <td>5</td>\n",
       "      <td>2</td>\n",
       "    </tr>\n",
       "    <tr>\n",
       "      <th>1</th>\n",
       "      <td>6</td>\n",
       "      <td>2</td>\n",
       "      <td>4</td>\n",
       "      <td>9</td>\n",
       "      <td>6</td>\n",
       "      <td>5</td>\n",
       "      <td>6</td>\n",
       "      <td>10</td>\n",
       "      <td>3</td>\n",
       "      <td>1</td>\n",
       "    </tr>\n",
       "    <tr>\n",
       "      <th>2</th>\n",
       "      <td>6</td>\n",
       "      <td>1</td>\n",
       "      <td>3</td>\n",
       "      <td>10</td>\n",
       "      <td>8</td>\n",
       "      <td>7</td>\n",
       "      <td>8</td>\n",
       "      <td>5</td>\n",
       "      <td>3</td>\n",
       "      <td>1</td>\n",
       "    </tr>\n",
       "    <tr>\n",
       "      <th>3</th>\n",
       "      <td>3</td>\n",
       "      <td>1</td>\n",
       "      <td>4</td>\n",
       "      <td>10</td>\n",
       "      <td>4</td>\n",
       "      <td>4</td>\n",
       "      <td>9</td>\n",
       "      <td>7</td>\n",
       "      <td>7</td>\n",
       "      <td>2</td>\n",
       "    </tr>\n",
       "    <tr>\n",
       "      <th>4</th>\n",
       "      <td>7</td>\n",
       "      <td>1</td>\n",
       "      <td>1</td>\n",
       "      <td>10</td>\n",
       "      <td>3</td>\n",
       "      <td>9</td>\n",
       "      <td>7</td>\n",
       "      <td>5</td>\n",
       "      <td>6</td>\n",
       "      <td>4</td>\n",
       "    </tr>\n",
       "  </tbody>\n",
       "</table>\n",
       "</div>"
      ],
      "text/plain": [
       "   Aaron  Brad  Brian  Colin  John  Jon  Josh  Matt  Micah  Ryan\n",
       "0      4     1      7     10     3    8     9     6      5     2\n",
       "1      6     2      4      9     6    5     6    10      3     1\n",
       "2      6     1      3     10     8    7     8     5      3     1\n",
       "3      3     1      4     10     4    4     9     7      7     2\n",
       "4      7     1      1     10     3    9     7     5      6     4"
      ]
     },
     "execution_count": 13,
     "metadata": {},
     "output_type": "execute_result"
    }
   ],
   "source": [
    "# use min method because ties take from following placements\n",
    "# mistakenly used dense at first\n",
    "df_rank = df_wins.rank(axis=1, method=\"min\", ascending=False).astype(int)\n",
    "df_rank[:5]"
   ]
  },
  {
   "cell_type": "code",
   "execution_count": 14,
   "metadata": {},
   "outputs": [
    {
     "data": {
      "text/html": [
       "<style  type=\"text/css\" >\n",
       "</style>  \n",
       "<table id=\"T_810622dc_c0dc_11e8_8f22_60f677f61a75\" > \n",
       "<thead>    <tr> \n",
       "        <th class=\"blank level0\" ></th> \n",
       "        <th class=\"col_heading level0 col0\" >1</th> \n",
       "        <th class=\"col_heading level0 col1\" >2</th> \n",
       "        <th class=\"col_heading level0 col2\" >3</th> \n",
       "    </tr></thead> \n",
       "<tbody>    <tr> \n",
       "        <th id=\"T_810622dc_c0dc_11e8_8f22_60f677f61a75level0_row0\" class=\"row_heading level0 row0\" >Ryan</th> \n",
       "        <td id=\"T_810622dc_c0dc_11e8_8f22_60f677f61a75row0_col0\" class=\"data row0 col0\" >38.7%</td> \n",
       "        <td id=\"T_810622dc_c0dc_11e8_8f22_60f677f61a75row0_col1\" class=\"data row0 col1\" >24.1%</td> \n",
       "        <td id=\"T_810622dc_c0dc_11e8_8f22_60f677f61a75row0_col2\" class=\"data row0 col2\" >16.1%</td> \n",
       "    </tr>    <tr> \n",
       "        <th id=\"T_810622dc_c0dc_11e8_8f22_60f677f61a75level0_row1\" class=\"row_heading level0 row1\" >Brad</th> \n",
       "        <td id=\"T_810622dc_c0dc_11e8_8f22_60f677f61a75row1_col0\" class=\"data row1 col0\" >37.8%</td> \n",
       "        <td id=\"T_810622dc_c0dc_11e8_8f22_60f677f61a75row1_col1\" class=\"data row1 col1\" >26.5%</td> \n",
       "        <td id=\"T_810622dc_c0dc_11e8_8f22_60f677f61a75row1_col2\" class=\"data row1 col2\" >15.9%</td> \n",
       "    </tr>    <tr> \n",
       "        <th id=\"T_810622dc_c0dc_11e8_8f22_60f677f61a75level0_row2\" class=\"row_heading level0 row2\" >Brian</th> \n",
       "        <td id=\"T_810622dc_c0dc_11e8_8f22_60f677f61a75row2_col0\" class=\"data row2 col0\" >21.8%</td> \n",
       "        <td id=\"T_810622dc_c0dc_11e8_8f22_60f677f61a75row2_col1\" class=\"data row2 col1\" >21.7%</td> \n",
       "        <td id=\"T_810622dc_c0dc_11e8_8f22_60f677f61a75row2_col2\" class=\"data row2 col2\" >19.2%</td> \n",
       "    </tr>    <tr> \n",
       "        <th id=\"T_810622dc_c0dc_11e8_8f22_60f677f61a75level0_row3\" class=\"row_heading level0 row3\" >Micah</th> \n",
       "        <td id=\"T_810622dc_c0dc_11e8_8f22_60f677f61a75row3_col0\" class=\"data row3 col0\" >8.7%</td> \n",
       "        <td id=\"T_810622dc_c0dc_11e8_8f22_60f677f61a75row3_col1\" class=\"data row3 col1\" >11.8%</td> \n",
       "        <td id=\"T_810622dc_c0dc_11e8_8f22_60f677f61a75row3_col2\" class=\"data row3 col2\" >15.2%</td> \n",
       "    </tr>    <tr> \n",
       "        <th id=\"T_810622dc_c0dc_11e8_8f22_60f677f61a75level0_row4\" class=\"row_heading level0 row4\" >John</th> \n",
       "        <td id=\"T_810622dc_c0dc_11e8_8f22_60f677f61a75row4_col0\" class=\"data row4 col0\" >7.0%</td> \n",
       "        <td id=\"T_810622dc_c0dc_11e8_8f22_60f677f61a75row4_col1\" class=\"data row4 col1\" >11.2%</td> \n",
       "        <td id=\"T_810622dc_c0dc_11e8_8f22_60f677f61a75row4_col2\" class=\"data row4 col2\" >14.5%</td> \n",
       "    </tr>    <tr> \n",
       "        <th id=\"T_810622dc_c0dc_11e8_8f22_60f677f61a75level0_row5\" class=\"row_heading level0 row5\" >Aaron</th> \n",
       "        <td id=\"T_810622dc_c0dc_11e8_8f22_60f677f61a75row5_col0\" class=\"data row5 col0\" >2.9%</td> \n",
       "        <td id=\"T_810622dc_c0dc_11e8_8f22_60f677f61a75row5_col1\" class=\"data row5 col1\" >6.6%</td> \n",
       "        <td id=\"T_810622dc_c0dc_11e8_8f22_60f677f61a75row5_col2\" class=\"data row5 col2\" >10.0%</td> \n",
       "    </tr>    <tr> \n",
       "        <th id=\"T_810622dc_c0dc_11e8_8f22_60f677f61a75level0_row6\" class=\"row_heading level0 row6\" >Jon</th> \n",
       "        <td id=\"T_810622dc_c0dc_11e8_8f22_60f677f61a75row6_col0\" class=\"data row6 col0\" >1.4%</td> \n",
       "        <td id=\"T_810622dc_c0dc_11e8_8f22_60f677f61a75row6_col1\" class=\"data row6 col1\" >3.5%</td> \n",
       "        <td id=\"T_810622dc_c0dc_11e8_8f22_60f677f61a75row6_col2\" class=\"data row6 col2\" >6.1%</td> \n",
       "    </tr>    <tr> \n",
       "        <th id=\"T_810622dc_c0dc_11e8_8f22_60f677f61a75level0_row7\" class=\"row_heading level0 row7\" >Josh</th> \n",
       "        <td id=\"T_810622dc_c0dc_11e8_8f22_60f677f61a75row7_col0\" class=\"data row7 col0\" >1.0%</td> \n",
       "        <td id=\"T_810622dc_c0dc_11e8_8f22_60f677f61a75row7_col1\" class=\"data row7 col1\" >2.4%</td> \n",
       "        <td id=\"T_810622dc_c0dc_11e8_8f22_60f677f61a75row7_col2\" class=\"data row7 col2\" >4.7%</td> \n",
       "    </tr>    <tr> \n",
       "        <th id=\"T_810622dc_c0dc_11e8_8f22_60f677f61a75level0_row8\" class=\"row_heading level0 row8\" >Matt</th> \n",
       "        <td id=\"T_810622dc_c0dc_11e8_8f22_60f677f61a75row8_col0\" class=\"data row8 col0\" >0.5%</td> \n",
       "        <td id=\"T_810622dc_c0dc_11e8_8f22_60f677f61a75row8_col1\" class=\"data row8 col1\" >1.5%</td> \n",
       "        <td id=\"T_810622dc_c0dc_11e8_8f22_60f677f61a75row8_col2\" class=\"data row8 col2\" >3.5%</td> \n",
       "    </tr>    <tr> \n",
       "        <th id=\"T_810622dc_c0dc_11e8_8f22_60f677f61a75level0_row9\" class=\"row_heading level0 row9\" >Colin</th> \n",
       "        <td id=\"T_810622dc_c0dc_11e8_8f22_60f677f61a75row9_col0\" class=\"data row9 col0\" >0.0%</td> \n",
       "        <td id=\"T_810622dc_c0dc_11e8_8f22_60f677f61a75row9_col1\" class=\"data row9 col1\" >0.1%</td> \n",
       "        <td id=\"T_810622dc_c0dc_11e8_8f22_60f677f61a75row9_col2\" class=\"data row9 col2\" >0.2%</td> \n",
       "    </tr></tbody> \n",
       "</table> "
      ],
      "text/plain": [
       "<pandas.io.formats.style.Styler at 0x2b6a16f0978>"
      ]
     },
     "execution_count": 14,
     "metadata": {},
     "output_type": "execute_result"
    }
   ],
   "source": [
    "rank1 = (df_rank==1).sum(0) / n_sims\n",
    "rank2 = (df_rank==2).sum(0) / n_sims\n",
    "rank3 = (df_rank==3).sum(0) / n_sims\n",
    "\n",
    "probs = pd.concat([rank1, rank2, rank3], axis=1)\n",
    "probs.columns = [\"1\", \"2\", \"3\"]\n",
    "probs.sort_values(\"1\", ascending=False).style.format(\"{:.1%}\")"
   ]
  },
  {
   "cell_type": "code",
   "execution_count": 15,
   "metadata": {},
   "outputs": [],
   "source": [
    "formatted = (probs*100).sort_values(\"1\", ascending=False).round(0).astype(int).astype(str)+'%'\n",
    "formatted.to_csv(\"probabilities.txt\", sep=\" \", header=False)"
   ]
  },
  {
   "cell_type": "code",
   "execution_count": 16,
   "metadata": {},
   "outputs": [],
   "source": [
    "import seaborn as sns\n",
    "%matplotlib inline"
   ]
  },
  {
   "cell_type": "code",
   "execution_count": 17,
   "metadata": {},
   "outputs": [],
   "source": [
    "person_sort = probs.sort_values(\"1\", ascending=False).index"
   ]
  },
  {
   "cell_type": "code",
   "execution_count": 18,
   "metadata": {},
   "outputs": [
    {
     "data": {
      "text/plain": [
       "<matplotlib.axes._subplots.AxesSubplot at 0x2b6afa185c0>"
      ]
     },
     "execution_count": 18,
     "metadata": {},
     "output_type": "execute_result"
    },
    {
     "data": {
      "image/png": "[encoded data removed]",
      "text/plain": [
       "<Figure size 432x288 with 2 Axes>"
      ]
     },
     "metadata": {},
     "output_type": "display_data"
    }
   ],
   "source": [
    "# score distribution for individual players\n",
    "dist_df = []\n",
    "for person in persons:\n",
    "    dist_df.append(pd.DataFrame(df_wins.groupby(person).size() / n_sims))\n",
    "\n",
    "dist_df = pd.concat(dist_df, axis=1).fillna(0)\n",
    "dist_df.columns = persons\n",
    "#dist_df.style.format(\"{:.1%}\")\n",
    "sns.heatmap(dist_df[person_sort], annot=False)"
   ]
  },
  {
   "cell_type": "code",
   "execution_count": 19,
   "metadata": {},
   "outputs": [],
   "source": [
    "# union team data to compute wins\n",
    "a = df[[\"person1\", \"team1\", \"prob1\"]].rename(columns={\"person1\":\"person\", \"team1\":\"team\", \"prob1\":\"prob\"})\n",
    "b = df[[\"person2\", \"team2\", \"prob2\"]].rename(columns={\"person2\":\"person\", \"team2\":\"team\", \"prob2\":\"prob\"})\n",
    "df_union = pd.concat([a, b], axis=0, ignore_index=True)\n",
    "df_union[\"win\"] = (df_union[\"prob\"] == 1).astype(int)\n",
    "totals = df_union.groupby([\"person\", \"team\"]).sum().reset_index()"
   ]
  },
  {
   "cell_type": "code",
   "execution_count": null,
   "metadata": {},
   "outputs": [],
   "source": [
    "# text for Notes app\n",
    "text = ''\n",
    "for person in persons:\n",
    "    team_scores = totals[totals.person==person]\n",
    "    score_text = \"\\n\".join(\" - \" + team_scores.team + \": \" + team_scores.win.astype(str))\n",
    "    person_total = \"TOTAL: \" + str(team_scores.win.sum())\n",
    "    person_max = \"MAX: \" + str(df_current.loc[person].max_possible)\n",
    "    placement_prob = \"1st 2nd 3rd: \" + \" \".join((probs.loc[person]*100).round(0).astype(int).astype(str) + \"%\")\n",
    "    parts = [person, score_text, person_total, person_max, placement_prob, \"\\n\"]\n",
    "    text += \"\\n\".join(parts)\n",
    "    \n",
    "open(\"report.txt\", \"w\").write(text)"
   ]
  },
  {
   "cell_type": "code",
   "execution_count": null,
   "metadata": {
    "collapsed": true
   },
   "outputs": [],
   "source": []
  }
 ],
 "metadata": {
  "kernelspec": {
   "display_name": "Python 3",
   "language": "python",
   "name": "python3"
  },
  "language_info": {
   "codemirror_mode": {
    "name": "ipython",
    "version": 3
   },
   "file_extension": ".py",
   "mimetype": "text/x-python",
   "name": "python",
   "nbconvert_exporter": "python",
   "pygments_lexer": "ipython3",
   "version": "3.6.5"
  }
 },
 "nbformat": 4,
 "nbformat_minor": 2
}
